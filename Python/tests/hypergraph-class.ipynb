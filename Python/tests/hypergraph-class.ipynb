{
 "cells": [
  {
   "cell_type": "code",
   "execution_count": 1,
   "id": "c899ae42-0850-4ef3-ab97-cc518ce9d801",
   "metadata": {},
   "outputs": [],
   "source": [
    "from HAT.hypergraph import Hypergraph\n",
    "import numpy as np\n",
    "import pandas as pd"
   ]
  },
  {
   "cell_type": "code",
   "execution_count": 2,
   "id": "3bdaa606-9064-4fc1-b6a2-ceffcb2b8c82",
   "metadata": {},
   "outputs": [],
   "source": [
    "incidence_matrix = np.array([[1, 1, 1, 0, 0, 0, 1],\n",
    "                             [1, 1, 1, 1, 1, 0, 0],\n",
    "                             [1, 0, 0, 1, 0, 1, 1],\n",
    "                             [0, 1, 0, 1, 1, 1, 0],\n",
    "                             [0, 0, 1, 0, 1, 1, 1]])\n",
    "\n",
    "edge_list = [[0,1,2],\n",
    "             [0,1,3],\n",
    "             [0,1,4],\n",
    "             [1,2,3],\n",
    "             [1,3,4],\n",
    "             [2,3,4],\n",
    "             [0,2,4]\n",
    "            ]\n",
    "\n",
    "adjacency_tensor = np.zeros((5,5,5))\n",
    "adjacency_tensor[0,1,2] = 1\n",
    "adjacency_tensor[0,1,3] = 1\n",
    "adjacency_tensor[0,1,4] = 1\n",
    "adjacency_tensor[1,2,3] = 1\n",
    "adjacency_tensor[1,3,4] = 1\n",
    "adjacency_tensor[2,3,4] = 1\n",
    "adjacency_tensor[0,2,4] = 1\n"
   ]
  },
  {
   "cell_type": "code",
   "execution_count": null,
   "id": "df7dcf26-f006-4c4b-bed8-1f2eba6d7ed9",
   "metadata": {},
   "outputs": [],
   "source": []
  },
  {
   "cell_type": "code",
   "execution_count": 5,
   "id": "e09060cb-9797-4a9e-bb20-d6e3f99853f7",
   "metadata": {},
   "outputs": [
    {
     "name": "stdout",
     "output_type": "stream",
     "text": [
      "All tests passed!\n"
     ]
    }
   ],
   "source": [
    "# Make hypergraph based on the incidence matrix\n",
    "HG = Hypergraph(incidence_matrix=incidence_matrix)\n",
    "\n",
    "# Check if HG.adjacency_tensor and adjacency_tensor are close\n",
    "assert np.allclose(HG.adjacency_tensor, adjacency_tensor), \"Adjacency tensor does not match\"\n",
    "\n",
    "# Check if HG.edge_list and edge_list contain the same elements\n",
    "assert sorted(map(tuple, HG.edge_list)) == sorted(map(tuple, edge_list)), \"Edge list does not match\"\n",
    "\n",
    "\n",
    "# Make hypergraph based on the edge_list\n",
    "HG = Hypergraph(edge_list=edge_list)\n",
    "\n",
    "# Check if HG.adjacency_tensor and adjacency_tensor are close\n",
    "assert np.allclose(HG.adjacency_tensor, adjacency_tensor), \"Adjacency tensor does not match for edge list\"\n",
    "\n",
    "# Check if HG.incidence_matrix and incidence_matrix contain the same elements\n",
    "assert np.array_equal(HG.incidence_matrix, incidence_matrix), \"Incidence matrix does not match for edge list\"\n",
    "\n",
    "# Make hypergraph based on the adjacency tensor\n",
    "HG = Hypergraph(adjacency_tensor=adjacency_tensor)\n",
    "\n",
    "# Check if HG.edge_list and edge_list are close\n",
    "assert sorted(map(tuple, HG.edge_list)) == sorted(map(tuple, edge_list)), \"Edge list does not match for adjacency tensor\"\n",
    "\n",
    "def sorted_unique_columns(matrix):\n",
    "    # Get unique columns by using np.unique with axis=1\n",
    "    unique_cols = np.unique(matrix, axis=1)\n",
    "    # Sort the columns for comparison\n",
    "    return unique_cols[:, np.argsort(np.argsort(unique_cols, axis=0))]\n",
    "\n",
    "# Check if HG.incidence_matrix and incidence_matrix contain the same unique columns\n",
    "assert np.array_equal(np.unique(HG.incidence_matrix, axis=1), np.unique(incidence_matrix, axis=1)), \"Incidence matrix does not match for adjacency tensor\"\n",
    "\n",
    "\n",
    "print(\"All tests passed!\")\n"
   ]
  },
  {
   "cell_type": "code",
   "execution_count": null,
   "id": "1e109079-0745-4730-8fa2-adeb7693153b",
   "metadata": {},
   "outputs": [],
   "source": []
  },
  {
   "cell_type": "code",
   "execution_count": null,
   "id": "6759568d-dc27-464e-9d7d-d982fb1f1b9e",
   "metadata": {},
   "outputs": [],
   "source": []
  },
  {
   "cell_type": "code",
   "execution_count": null,
   "id": "8dc80ac1-6dc2-4dbc-b9ec-f66119481870",
   "metadata": {},
   "outputs": [],
   "source": []
  },
  {
   "cell_type": "code",
   "execution_count": null,
   "id": "ef7aa8c9-39bf-4f2f-94ec-0e0ba96dbe82",
   "metadata": {},
   "outputs": [],
   "source": []
  },
  {
   "cell_type": "code",
   "execution_count": null,
   "id": "a3f22715-992d-475b-9414-b7e5a79059e2",
   "metadata": {},
   "outputs": [],
   "source": []
  },
  {
   "cell_type": "code",
   "execution_count": null,
   "id": "bdc5a031-3dcf-4899-9c1f-c6dc2adca357",
   "metadata": {},
   "outputs": [],
   "source": []
  },
  {
   "cell_type": "code",
   "execution_count": null,
   "id": "db7032d7-e167-465b-bc24-a2c1ef1188e2",
   "metadata": {},
   "outputs": [],
   "source": []
  }
 ],
 "metadata": {
  "kernelspec": {
   "display_name": "Python 3 (ipykernel)",
   "language": "python",
   "name": "python3"
  },
  "language_info": {
   "codemirror_mode": {
    "name": "ipython",
    "version": 3
   },
   "file_extension": ".py",
   "mimetype": "text/x-python",
   "name": "python",
   "nbconvert_exporter": "python",
   "pygments_lexer": "ipython3",
   "version": "3.11.7"
  }
 },
 "nbformat": 4,
 "nbformat_minor": 5
}
