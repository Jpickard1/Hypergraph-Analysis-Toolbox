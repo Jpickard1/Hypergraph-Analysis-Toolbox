{
 "cells": [
  {
   "cell_type": "code",
   "execution_count": 3,
   "id": "d0c3f179-1680-47c0-8032-60c4e420945b",
   "metadata": {},
   "outputs": [
    {
     "ename": "ModuleNotFoundError",
     "evalue": "No module named 'HAT'",
     "output_type": "error",
     "traceback": [
      "\u001b[0;31m---------------------------------------------------------------------------\u001b[0m",
      "\u001b[0;31mModuleNotFoundError\u001b[0m                       Traceback (most recent call last)",
      "\u001b[0;32m/tmp/ipykernel_1281234/1040670914.py\u001b[0m in \u001b[0;36m<module>\u001b[0;34m\u001b[0m\n\u001b[1;32m      3\u001b[0m \u001b[0;32mimport\u001b[0m \u001b[0mmatplotlib\u001b[0m\u001b[0;34m.\u001b[0m\u001b[0mpyplot\u001b[0m \u001b[0;32mas\u001b[0m \u001b[0mplt\u001b[0m\u001b[0;34m\u001b[0m\u001b[0;34m\u001b[0m\u001b[0m\n\u001b[1;32m      4\u001b[0m \u001b[0;32mimport\u001b[0m \u001b[0mmatplotlib\u001b[0m\u001b[0;34m.\u001b[0m\u001b[0mfont_manager\u001b[0m\u001b[0;34m\u001b[0m\u001b[0;34m\u001b[0m\u001b[0m\n\u001b[0;32m----> 5\u001b[0;31m \u001b[0;32mimport\u001b[0m \u001b[0mHAT\u001b[0m\u001b[0;34m.\u001b[0m\u001b[0mHypergraph\u001b[0m\u001b[0;34m\u001b[0m\u001b[0;34m\u001b[0m\u001b[0m\n\u001b[0m\u001b[1;32m      6\u001b[0m \u001b[0;32mimport\u001b[0m \u001b[0mHAT\u001b[0m\u001b[0;34m.\u001b[0m\u001b[0mgraph\u001b[0m\u001b[0;34m\u001b[0m\u001b[0;34m\u001b[0m\u001b[0m\n\u001b[1;32m      7\u001b[0m \u001b[0;32mimport\u001b[0m \u001b[0mHAT\u001b[0m\u001b[0;34m.\u001b[0m\u001b[0mplot\u001b[0m\u001b[0;34m\u001b[0m\u001b[0;34m\u001b[0m\u001b[0m\n",
      "\u001b[0;31mModuleNotFoundError\u001b[0m: No module named 'HAT'"
     ]
    }
   ],
   "source": [
    "import numpy as np\n",
    "import scipy as sp\n",
    "import matplotlib.pyplot as plt\n",
    "import matplotlib.font_manager\n",
    "import HAT.Hypergraph\n",
    "import HAT.graph\n",
    "import HAT.plot\n",
    "import HAT.multilinalg\n",
    "from itertools import permutations \n",
    "import itertools"
   ]
  },
  {
   "cell_type": "code",
   "execution_count": null,
   "id": "de4d05aa-1fca-49f3-87f4-8ac6f1ec7719",
   "metadata": {},
   "outputs": [],
   "source": [
    "!pwd"
   ]
  },
  {
   "cell_type": "code",
   "execution_count": 69,
   "id": "f17fb3f9-6c80-4291-8ec6-8c54ebc4ec16",
   "metadata": {},
   "outputs": [],
   "source": [
    "import networkx as nx\n",
    "import numpy as np\n",
    "import scipy as sp\n",
    "import scipy.special"
   ]
  },
  {
   "cell_type": "code",
   "execution_count": 74,
   "id": "e340b371-3b54-4bd9-b63c-db831b5b5e57",
   "metadata": {},
   "outputs": [
    {
     "name": "stdout",
     "output_type": "stream",
     "text": [
      "[[1 0 0 0]\n",
      " [1 1 1 1]\n",
      " [1 1 0 0]\n",
      " [1 1 1 1]\n",
      " [1 0 1 0]]\n",
      "[0]\n",
      "[[1]\n",
      " [1]\n",
      " [1]\n",
      " [1]\n",
      " [1]]\n"
     ]
    },
    {
     "data": {
      "text/plain": [
       "array([1, 1, 1, 1, 1])"
      ]
     },
     "execution_count": 74,
     "metadata": {},
     "output_type": "execute_result"
    }
   ],
   "source": [
    "W = np.random.randint(2,size=(5,4))\n",
    "print(W)\n",
    "edges = np.where(W[0,:] > 0)[0]\n",
    "print(edges)\n",
    "w = W[:,edges]\n",
    "print(w)\n",
    "np.sum(w, axis=1)\n"
   ]
  },
  {
   "cell_type": "code",
   "execution_count": 75,
   "id": "25f8916e-9b0e-467b-8beb-0c6c7e5d72c1",
   "metadata": {},
   "outputs": [
    {
     "data": {
      "text/plain": [
       "array([[1, 0, 0, 0],\n",
       "       [1, 1, 1, 1],\n",
       "       [1, 1, 0, 0],\n",
       "       [1, 1, 1, 1],\n",
       "       [1, 0, 1, 0]])"
      ]
     },
     "execution_count": 75,
     "metadata": {},
     "output_type": "execute_result"
    }
   ],
   "source": [
    "v=0\n",
    "avgClusterCoef = 0\n",
    "W"
   ]
  },
  {
   "cell_type": "code",
   "execution_count": 76,
   "id": "3fdf8dce-fccb-47f6-b428-6c94d507abad",
   "metadata": {},
   "outputs": [
    {
     "name": "stdout",
     "output_type": "stream",
     "text": [
      "[0]\n",
      "[0 1 2 3 4]\n"
     ]
    },
    {
     "data": {
      "text/plain": [
       "0.1"
      ]
     },
     "execution_count": 76,
     "metadata": {},
     "output_type": "execute_result"
    }
   ],
   "source": [
    "avgClusterCoef = 0\n",
    "edges = np.where(W[v,:] > 0)[0]\n",
    "print(edges)\n",
    "neighbors = np.where(np.sum(W[:, edges], axis=1) > 0)[0]\n",
    "print(neighbors)\n",
    "avgClusterCoef += (len(edges) / sp.special.comb(len(neighbors), 3))\n",
    "avgClusterCoef"
   ]
  },
  {
   "cell_type": "code",
   "execution_count": 77,
   "id": "d89140d2-0792-4596-bda1-b26110e96145",
   "metadata": {},
   "outputs": [
    {
     "data": {
      "text/plain": [
       "array([0, 1, 2, 3, 4])"
      ]
     },
     "execution_count": 77,
     "metadata": {},
     "output_type": "execute_result"
    }
   ],
   "source": [
    "neighbors"
   ]
  },
  {
   "cell_type": "code",
   "execution_count": 55,
   "id": "fc252626-1da5-45e4-8b83-a4e64a5a8576",
   "metadata": {},
   "outputs": [
    {
     "data": {
      "text/plain": [
       "array([[1, 1],\n",
       "       [1, 1],\n",
       "       [0, 0],\n",
       "       [0, 0],\n",
       "       [1, 1]])"
      ]
     },
     "execution_count": 55,
     "metadata": {},
     "output_type": "execute_result"
    }
   ],
   "source": [
    "np.sum(W[:, edges], axis=1)"
   ]
  },
  {
   "cell_type": "code",
   "execution_count": 59,
   "id": "c9e1594c-64f0-40c0-9a83-64a9fe313a3f",
   "metadata": {},
   "outputs": [
    {
     "data": {
      "text/plain": [
       "array([[1, 1],\n",
       "       [1, 1],\n",
       "       [0, 0],\n",
       "       [0, 0],\n",
       "       [1, 1]])"
      ]
     },
     "execution_count": 59,
     "metadata": {},
     "output_type": "execute_result"
    }
   ],
   "source": [
    "W[:, edges]"
   ]
  },
  {
   "cell_type": "code",
   "execution_count": 58,
   "id": "a7b58ca5-3fea-4db7-b0a8-2566bdd71558",
   "metadata": {},
   "outputs": [],
   "source": [
    "edges=edges[0]"
   ]
  },
  {
   "cell_type": "code",
   "execution_count": 26,
   "id": "723e50ce-3f66-45e3-b1d4-e01e196e9c64",
   "metadata": {},
   "outputs": [
    {
     "data": {
      "text/plain": [
       "(array([0, 2, 3]),)"
      ]
     },
     "execution_count": 26,
     "metadata": {},
     "output_type": "execute_result"
    }
   ],
   "source": [
    "A = np.array([[1, 0, 1, 1, 0],\n",
    "              [0, 1, 0, 1, 1]])\n",
    "np.where(A[0,:] > 0)\n"
   ]
  },
  {
   "cell_type": "code",
   "execution_count": 14,
   "id": "eda1d828-7efb-42eb-b6dc-1c92e70d3140",
   "metadata": {},
   "outputs": [
    {
     "data": {
      "text/plain": [
       "<networkx.classes.graph.Graph at 0x14f44b491ac0>"
      ]
     },
     "execution_count": 14,
     "metadata": {},
     "output_type": "execute_result"
    },
    {
     "data": {
      "image/png": "[encoded data removed]",
      "text/plain": [
       "<Figure size 432x288 with 1 Axes>"
      ]
     },
     "metadata": {},
     "output_type": "display_data"
    }
   ],
   "source": [
    "A = np.array([[0, 1, 1], [1, 0, 1], [1, 1, 0]])\n",
    "G = nx.from_numpy_matrix(A)\n",
    "nx.draw(G)\n",
    "G"
   ]
  },
  {
   "cell_type": "code",
   "execution_count": 16,
   "id": "ec2e84d4-be90-44fb-b567-2806c647b1d7",
   "metadata": {},
   "outputs": [
    {
     "data": {
      "text/plain": [
       "True"
      ]
     },
     "execution_count": 16,
     "metadata": {},
     "output_type": "execute_result"
    }
   ],
   "source": [
    "isinstance(G, nx.classes.graph.Graph)"
   ]
  },
  {
   "cell_type": "code",
   "execution_count": 22,
   "id": "064acd8f-1df2-4451-b819-e51d489a150f",
   "metadata": {},
   "outputs": [
    {
     "data": {
      "text/plain": [
       "array([[0., 0., 0.],\n",
       "       [0., 0., 0.],\n",
       "       [0., 0., 0.]])"
      ]
     },
     "execution_count": 22,
     "metadata": {},
     "output_type": "execute_result"
    }
   ],
   "source": [
    "np.zeros((3,3))"
   ]
  },
  {
   "cell_type": "code",
   "execution_count": 20,
   "id": "c5b6ae09-917d-4eac-b6c6-afbcf3ad78ae",
   "metadata": {},
   "outputs": [
    {
     "data": {
      "text/plain": [
       "matrix([[ 0, -1, -1],\n",
       "        [-1,  0, -1],\n",
       "        [-1, -1,  0]])"
      ]
     },
     "execution_count": 20,
     "metadata": {},
     "output_type": "execute_result"
    }
   ],
   "source": [
    "A = nx.adjacency_matrix(G).todense()\n",
    "B = nx.adjacency_matrix(G).todense()\n",
    "A - 2*B"
   ]
  },
  {
   "cell_type": "code",
   "execution_count": 28,
   "id": "d9ef53dd-0ee4-486c-8f35-7c86eff0b781",
   "metadata": {},
   "outputs": [
    {
     "name": "stdout",
     "output_type": "stream",
     "text": [
      "[[0.15421119 0.11238148 0.4678742  0.31570661]\n",
      " [0.50209254 0.88831358 0.48014037 0.05038081]\n",
      " [0.54805848 0.18133322 0.67522645 0.78158588]]\n",
      "[[ 1.          0.47681985  0.6313325   0.26092334]\n",
      " [ 0.47681985  1.         -0.38064422 -0.7241386 ]\n",
      " [ 0.6313325  -0.38064422  1.          0.91337754]\n",
      " [ 0.26092334 -0.7241386   0.91337754  1.        ]]\n"
     ]
    }
   ],
   "source": [
    "D = np.random.rand(3,4)\n",
    "R = np.corrcoef(D.T)\n",
    "print(D)\n",
    "print(R)"
   ]
  },
  {
   "cell_type": "code",
   "execution_count": 63,
   "id": "6585486b-86fc-4905-a108-1c06ebda7439",
   "metadata": {},
   "outputs": [],
   "source": [
    "# itertools.combinations(range(5),3)\n",
    "type = 'Drezner'\n",
    "R = np.corrcoef(D.T)\n",
    "idxs = None\n",
    "if idxs == None:\n",
    "    idxs = np.array(list(itertools.combinations(range(4),3)))\n",
    "\n",
    "M = np.zeros(len(idxs),)\n",
    "\n",
    "if type == 'Taylor':\n",
    "    taylorCoef = 1/np.sqrt(order)\n",
    "    \n",
    "for i in range(len(idxs)):\n",
    "    minor = R[idxs[i,:], :]\n",
    "    minor = minor[:, idxs[i,:]]\n",
    "    if type == 'Drezner':\n",
    "        w, _ = np.linalg.eigh(minor)\n",
    "        M(i) = 1 - w[0]\n",
    "    elif type == 'Wang':\n",
    "        M(i) = pow((1 - np.linalg.det(minor)), 0.5)\n",
    "    elif type == 'Taylor':\n",
    "        w, _ = np.linalg.eigh(minor)\n",
    "        M(i) = taylorCoef * np.std(w)\n",
    "\n",
    "return M, idxs\n",
    "        "
   ]
  },
  {
   "cell_type": "code",
   "execution_count": 61,
   "id": "bbd958f3-815e-4cf8-814e-4a27a0263d3c",
   "metadata": {},
   "outputs": [
    {
     "data": {
      "text/plain": [
       "array([[ 1.        ,  0.47681985,  0.6313325 ,  0.26092334],\n",
       "       [ 0.47681985,  1.        , -0.38064422, -0.7241386 ],\n",
       "       [ 0.6313325 , -0.38064422,  1.        ,  0.91337754],\n",
       "       [ 0.26092334, -0.7241386 ,  0.91337754,  1.        ]])"
      ]
     },
     "execution_count": 61,
     "metadata": {},
     "output_type": "execute_result"
    }
   ],
   "source": [
    "R"
   ]
  },
  {
   "cell_type": "code",
   "execution_count": 4,
   "id": "28561896-b5cb-45fb-a213-66b0acefccec",
   "metadata": {},
   "outputs": [],
   "source": [
    "import HAT\n",
    "import numpy as np"
   ]
  },
  {
   "cell_type": "code",
   "execution_count": 6,
   "id": "e937b77f-8d1f-4058-8e4a-a51338fa1821",
   "metadata": {},
   "outputs": [
    {
     "name": "stdout",
     "output_type": "stream",
     "text": [
      "Hello\n"
     ]
    },
    {
     "data": {
      "text/plain": [
       "<HAT.Hypergraph.Hypergraph at 0x150d4549d490>"
      ]
     },
     "execution_count": 6,
     "metadata": {},
     "output_type": "execute_result"
    }
   ],
   "source": [
    "HAT.hello()\n",
    "W = np.array([[1, 1, 0],\n",
    "              [1, 1, 0],\n",
    "              [1, 0, 1],\n",
    "              [0, 1, 1],\n",
    "              [0, 0, 1]])\n",
    "HAT.Hypergraph(W)"
   ]
  },
  {
   "cell_type": "code",
   "execution_count": 2,
   "id": "e2b2ba29-1433-432a-823d-efa0725e4093",
   "metadata": {},
   "outputs": [
    {
     "ename": "AttributeError",
     "evalue": "module 'HAT' has no attribute 'indirectSimilarity'",
     "output_type": "error",
     "traceback": [
      "\u001b[0;31m---------------------------------------------------------------------------\u001b[0m",
      "\u001b[0;31mAttributeError\u001b[0m                            Traceback (most recent call last)",
      "\u001b[0;32m/tmp/ipykernel_50053/3207139374.py\u001b[0m in \u001b[0;36m<module>\u001b[0;34m\u001b[0m\n\u001b[1;32m      1\u001b[0m \u001b[0;32mimport\u001b[0m \u001b[0mHAT\u001b[0m\u001b[0;34m\u001b[0m\u001b[0;34m\u001b[0m\u001b[0m\n\u001b[0;32m----> 2\u001b[0;31m \u001b[0mHAT\u001b[0m\u001b[0;34m.\u001b[0m\u001b[0mindirectSimilarity\u001b[0m\u001b[0;34m(\u001b[0m\u001b[0;34m)\u001b[0m\u001b[0;34m\u001b[0m\u001b[0;34m\u001b[0m\u001b[0m\n\u001b[0m",
      "\u001b[0;31mAttributeError\u001b[0m: module 'HAT' has no attribute 'indirectSimilarity'"
     ]
    }
   ],
   "source": [
    "import HAT\n",
    "HAT.indirectSimilarity()"
   ]
  },
  {
   "cell_type": "code",
   "execution_count": 77,
   "id": "5619be7a-c1a5-4abd-a692-1c75d2fa4fa0",
   "metadata": {},
   "outputs": [],
   "source": [
    "W = np.array([[1, 1, 0],\n",
    "              [1, 1, 0],\n",
    "              [1, 0, 1],\n",
    "              [0, 1, 1],\n",
    "              [0, 0, 1]])\n",
    "IM = W\n",
    "H = HAT.Hypergraph(W)  # Works\n",
    "At = H.adjacencyTensor()               # Works\n",
    "Dt = H.degreeTensor()                  # Works\n",
    "Lt = H.laplacianTensor()               # Works\n",
    "C = H.cliqueGraph()               # Works\n",
    "S = H.starGraph()                 # Works\n",
    "L = H.lineGraph()                 \n",
    "D = H.dual()                      # Works\n",
    "B = H.laplacianMatrix('Bolla')    # Works against MATLAB\n",
    "R = H.laplacianMatrix('Rodriguez')# Works against MATLAB\n",
    "Z = H.laplacianMatrix('Zhou')     # Works against MATLAB\n",
    "\n"
   ]
  },
  {
   "cell_type": "code",
   "execution_count": 87,
   "id": "744e7217-c67b-41af-9156-890bed9afb1e",
   "metadata": {},
   "outputs": [
    {
     "data": {
      "text/plain": [
       "array([1, 4, 9])"
      ]
     },
     "execution_count": 87,
     "metadata": {},
     "output_type": "execute_result"
    }
   ],
   "source": [
    "X = np.array([1,2,3])\n",
    "X**2"
   ]
  },
  {
   "cell_type": "code",
   "execution_count": 96,
   "id": "639b6484-3b6e-45d2-a65b-c525ed3699c0",
   "metadata": {},
   "outputs": [
    {
     "name": "stdout",
     "output_type": "stream",
     "text": [
      "5\n",
      "10\n"
     ]
    },
    {
     "data": {
      "text/plain": [
       "array([[1, 0, 0],\n",
       "       [0, 2, 0],\n",
       "       [0, 0, 3]])"
      ]
     },
     "execution_count": 96,
     "metadata": {},
     "output_type": "execute_result"
    }
   ],
   "source": [
    "f = lambda x : x\n",
    "g = lambda x : x+5\n",
    "print(f(5))\n",
    "print(g(5))\n",
    "\n",
    "np.diag([1,2,3])"
   ]
  },
  {
   "cell_type": "code",
   "execution_count": 97,
   "id": "ada5515e-5bfc-4f3c-b265-17dfc9bb932c",
   "metadata": {},
   "outputs": [
    {
     "data": {
      "text/plain": [
       "array([1, 4, 9])"
      ]
     },
     "execution_count": 97,
     "metadata": {},
     "output_type": "execute_result"
    }
   ],
   "source": [
    "D1 = np.array([1,2,3])\n",
    "D2 = np.array([1,2,3])\n",
    "np.multiply(D1,D2)"
   ]
  },
  {
   "cell_type": "code",
   "execution_count": 28,
   "id": "0e4a00a1-2ac5-4d30-8624-aa9a198ea677",
   "metadata": {},
   "outputs": [
    {
     "name": "stdout",
     "output_type": "stream",
     "text": [
      "0.0038809618814724684\n"
     ]
    }
   ],
   "source": [
    "type = 'deltaCon'\n",
    "eps = 1e-3\n",
    "M1 = np.random.rand(2,2)\n",
    "M2 = np.random.rand(2,2)\n",
    "# print(M1)\n",
    "if type == 'Hamming':\n",
    "    n = len(M1)\n",
    "    s = np.linalg.norm(M1 - M2) / (n*(n-1))\n",
    "elif type == 'Jaccard':\n",
    "    M1 = np.matrix.flatten(M1)\n",
    "    M2 = np.matrix.flatten(M2)\n",
    "    M = np.array([M1, M2])\n",
    "    Mmin = np.min(M, axis=0)\n",
    "    Mmax = np.max(M, axis=0)\n",
    "    s = 1 - sum(Mmin)/sum(Mmax)\n",
    "elif type == 'deltaCon':\n",
    "    D1 = np.diag(sum(M1))\n",
    "    D2 = np.diag(sum(M2))\n",
    "    I = np.eye(len(D1))\n",
    "    S1 = sp.linalg.inv(I - eps**2*D1 - eps*M1)\n",
    "    S2 = sp.linalg.inv(I - eps**2*D2 - eps*M2)\n",
    "    M = np.square(np.sqrt(S1) - np.sqrt(S2))\n",
    "    d = (1 / (len(M1)**2)) * np.sqrt(np.sum(np.sum(M)))\n",
    "    print(d)\n",
    "elif type == 'Spectral'\n",
    "    "
   ]
  },
  {
   "cell_type": "code",
   "execution_count": 69,
   "id": "85b364ec-cf88-4f00-b4a6-c637cc36ba0f",
   "metadata": {},
   "outputs": [
    {
     "data": {
      "text/plain": [
       "array([-1.09749276, -0.5637874 , -0.31470978, -0.05539387,  0.27750595,\n",
       "        0.52429576,  1.18791535,  3.40670304])"
      ]
     },
     "execution_count": 69,
     "metadata": {},
     "output_type": "execute_result"
    }
   ],
   "source": [
    "D = np.random.rand(8,8)\n",
    "n1, _ = np.linalg.eigh(D)\n",
    "n1"
   ]
  },
  {
   "cell_type": "code",
   "execution_count": 17,
   "id": "656a7350-3991-4ac0-a43a-32adb545e039",
   "metadata": {},
   "outputs": [
    {
     "data": {
      "text/plain": [
       "array([[1.00099381e+00, 6.37382218e-06],\n",
       "       [1.71633008e-04, 1.00096710e+00]])"
      ]
     },
     "execution_count": 17,
     "metadata": {},
     "output_type": "execute_result"
    }
   ],
   "source": [
    "np.square(np.sqrt(S1))"
   ]
  },
  {
   "cell_type": "code",
   "execution_count": 73,
   "id": "bf0eb455-b3c5-4618-8269-2934267366aa",
   "metadata": {},
   "outputs": [
    {
     "data": {
      "text/plain": [
       "3.7416573867739413"
      ]
     },
     "execution_count": 73,
     "metadata": {},
     "output_type": "execute_result"
    }
   ],
   "source": [
    "np.linalg.norm(np.array([1,2,3]))"
   ]
  },
  {
   "cell_type": "code",
   "execution_count": 8,
   "id": "4a6f16d2-30e7-4789-97fd-e8ca9dcd7a8b",
   "metadata": {},
   "outputs": [],
   "source": [
    "U, s, Vh = HAT.multilinalg.hosvd(L, M=False, uniform=True, sym=True)"
   ]
  },
  {
   "cell_type": "code",
   "execution_count": 9,
   "id": "e19f526f-f092-4a83-a47c-726a6085a3fa",
   "metadata": {},
   "outputs": [
    {
     "data": {
      "text/plain": [
       "array([2.34520788, 2.23606798, 2.23606798, 2.12132034, 1.22474487])"
      ]
     },
     "execution_count": 9,
     "metadata": {},
     "output_type": "execute_result"
    }
   ],
   "source": [
    "s"
   ]
  },
  {
   "cell_type": "code",
   "execution_count": 5,
   "id": "1d364fb5-b5ca-4fb3-87c0-fa3c6048bb0b",
   "metadata": {},
   "outputs": [
    {
     "data": {
      "text/plain": [
       "array([2, 2, 2, 2, 1])"
      ]
     },
     "execution_count": 5,
     "metadata": {},
     "output_type": "execute_result"
    }
   ],
   "source": [
    "np.sum(IM, axis=1)"
   ]
  },
  {
   "cell_type": "code",
   "execution_count": 8,
   "id": "61cc224f-d2ae-4fca-a98a-bfa92db38f99",
   "metadata": {},
   "outputs": [
    {
     "name": "stdout",
     "output_type": "stream",
     "text": [
      "[[0.86422242 0.55969613 0.98099349]\n",
      " [0.1169785  0.3484301  0.53078713]\n",
      " [0.45362709 0.69040764 0.0277624 ]]\n",
      "[0.86422242 0.3484301  0.0277624 ]\n",
      "[[0.86422242 0.         0.        ]\n",
      " [0.         0.3484301  0.        ]\n",
      " [0.         0.         0.0277624 ]]\n"
     ]
    }
   ],
   "source": [
    "X = np.random.rand(3,3)\n",
    "print(X)\n",
    "print(np.diag(X))\n",
    "print(np.diag(np.diag(X)))\n"
   ]
  },
  {
   "cell_type": "code",
   "execution_count": 31,
   "id": "16f804e7-2cdb-420b-a2f8-a8de3ecc843e",
   "metadata": {},
   "outputs": [
    {
     "name": "stdout",
     "output_type": "stream",
     "text": [
      "Defaulting to user installation because normal site-packages is not writeable\n",
      "Collecting tensorflow\n",
      "  Downloading tensorflow-2.10.1-cp39-cp39-manylinux_2_17_x86_64.manylinux2014_x86_64.whl (578.1 MB)\n",
      "\u001b[2K     \u001b[91m━━━━━━━━━━━━━━━━━━━━━━━━━━━━━━━━━━━━\u001b[0m\u001b[91m╸\u001b[0m \u001b[32m577.1/578.1 MB\u001b[0m \u001b[31m117.6 MB/s\u001b[0m eta \u001b[36m0:00:01\u001b[0m00:01\u001b[0m"
     ]
    },
    {
     "ename": "ModuleNotFoundError",
     "evalue": "No module named 'TensorFlow'",
     "output_type": "error",
     "traceback": [
      "\u001b[0;31m---------------------------------------------------------------------------\u001b[0m",
      "\u001b[0;31mModuleNotFoundError\u001b[0m                       Traceback (most recent call last)",
      "\u001b[0;32m/tmp/ipykernel_80434/752782561.py\u001b[0m in \u001b[0;36m<module>\u001b[0;34m\u001b[0m\n\u001b[1;32m      1\u001b[0m \u001b[0mget_ipython\u001b[0m\u001b[0;34m(\u001b[0m\u001b[0;34m)\u001b[0m\u001b[0;34m.\u001b[0m\u001b[0msystem\u001b[0m\u001b[0;34m(\u001b[0m\u001b[0;34m'pip install tensorflow'\u001b[0m\u001b[0;34m)\u001b[0m\u001b[0;34m\u001b[0m\u001b[0;34m\u001b[0m\u001b[0m\n\u001b[0;32m----> 2\u001b[0;31m \u001b[0;32mimport\u001b[0m \u001b[0mTensorFlow\u001b[0m \u001b[0;32mas\u001b[0m \u001b[0mtf\u001b[0m\u001b[0;34m\u001b[0m\u001b[0;34m\u001b[0m\u001b[0m\n\u001b[0m",
      "\u001b[0;31mModuleNotFoundError\u001b[0m: No module named 'TensorFlow'"
     ]
    }
   ],
   "source": [
    "!pip install tensorflow\n",
    "import TensorFlow as tf"
   ]
  },
  {
   "cell_type": "code",
   "execution_count": 20,
   "id": "ae58869b-5bc4-487c-b082-793315207a7f",
   "metadata": {},
   "outputs": [
    {
     "data": {
      "text/plain": [
       "array([[0., 0., 0., 1., 1., 1., 0., 0.],\n",
       "       [0., 0., 0., 1., 1., 0., 1., 0.],\n",
       "       [0., 0., 0., 0., 0., 1., 1., 1.],\n",
       "       [1., 1., 0., 0., 0., 0., 0., 0.],\n",
       "       [1., 1., 0., 0., 0., 0., 0., 0.],\n",
       "       [1., 0., 1., 0., 0., 0., 0., 0.],\n",
       "       [0., 1., 1., 0., 0., 0., 0., 0.],\n",
       "       [0., 0., 1., 0., 0., 0., 0., 0.]])"
      ]
     },
     "execution_count": 20,
     "metadata": {},
     "output_type": "execute_result"
    }
   ],
   "source": [
    "n = len(IM) + len(IM[0])\n",
    "A = np.zeros((n,n))\n",
    "A[len(A) - len(IM):len(A),0:len(IM[0])] = IM\n",
    "A[0:len(IM[0]),len(A) - len(IM):len(A)] = IM.T\n",
    "A"
   ]
  },
  {
   "cell_type": "code",
   "execution_count": 17,
   "id": "8a54c104-0e34-46aa-baa7-fa90ba9a421b",
   "metadata": {},
   "outputs": [
    {
     "data": {
      "text/plain": [
       "array([[0., 0., 0., 0., 0., 1., 1., 0.],\n",
       "       [0., 0., 0., 0., 0., 1., 1., 0.],\n",
       "       [0., 0., 0., 0., 0., 1., 0., 1.],\n",
       "       [1., 1., 0., 0., 0., 0., 1., 1.],\n",
       "       [1., 1., 0., 0., 0., 0., 0., 1.],\n",
       "       [1., 0., 1., 0., 0., 0., 0., 0.],\n",
       "       [0., 1., 1., 0., 0., 0., 0., 0.],\n",
       "       [0., 0., 1., 0., 0., 0., 0., 0.]])"
      ]
     },
     "execution_count": 17,
     "metadata": {},
     "output_type": "execute_result"
    }
   ],
   "source": [
    "A"
   ]
  },
  {
   "cell_type": "code",
   "execution_count": 3,
   "id": "20e3a496-9475-48c0-86e0-015ddb0f317d",
   "metadata": {},
   "outputs": [
    {
     "data": {
      "text/plain": [
       "array([1., 1., 1.])"
      ]
     },
     "execution_count": 3,
     "metadata": {},
     "output_type": "execute_result"
    }
   ],
   "source": [
    "H.edgeWeight"
   ]
  },
  {
   "cell_type": "code",
   "execution_count": 15,
   "id": "de119f22-2273-4285-bd41-21131794a969",
   "metadata": {},
   "outputs": [
    {
     "name": "stdout",
     "output_type": "stream",
     "text": [
      "[[1. 0. 0.]\n",
      " [0. 1. 0.]\n",
      " [0. 0. 1.]]\n"
     ]
    }
   ],
   "source": [
    "edgeOrder = np.sum(H.IM, axis=0)\n",
    "M = np.eye(len(edgeOrder))\n",
    "M = np.zeros((3,3))\n",
    "np.fill_diagonal(M, H.edgeWeight)\n",
    "print(M)"
   ]
  },
  {
   "cell_type": "code",
   "execution_count": 10,
   "id": "483f4103-ccb2-4081-a21e-d2b84081a55a",
   "metadata": {},
   "outputs": [
    {
     "data": {
      "text/plain": [
       "array([[1., 0., 0.],\n",
       "       [0., 1., 0.],\n",
       "       [0., 0., 1.]])"
      ]
     },
     "execution_count": 10,
     "metadata": {},
     "output_type": "execute_result"
    }
   ],
   "source": [
    "np.eye(len(edgeOrder))"
   ]
  },
  {
   "cell_type": "code",
   "execution_count": 2,
   "id": "21d5bad5-5d87-4446-9450-7c0ffa730477",
   "metadata": {},
   "outputs": [],
   "source": [
    "import HAT.hypergraph\n",
    "import HAT.graph\n",
    "import HAT.plot"
   ]
  },
  {
   "cell_type": "code",
   "execution_count": 78,
   "id": "1c620840-768c-46d4-848a-91f9696e7be3",
   "metadata": {},
   "outputs": [
    {
     "data": {
      "text/plain": [
       "array([ 4, 10, 18])"
      ]
     },
     "execution_count": 78,
     "metadata": {},
     "output_type": "execute_result"
    }
   ],
   "source": [
    "np.multiply(np.array([1,2,3]),np.array([4,5,6]))"
   ]
  },
  {
   "cell_type": "code",
   "execution_count": 82,
   "id": "aa96ed6b-9df2-40a4-aadc-dae344f20cd6",
   "metadata": {},
   "outputs": [
    {
     "data": {
      "text/plain": [
       "array([0.44750938, 0.19809228, 0.37052435, 0.31261923, 0.04737178,\n",
       "       0.57345739])"
      ]
     },
     "execution_count": 82,
     "metadata": {},
     "output_type": "execute_result"
    }
   ],
   "source": [
    "np.multiply(np.random.rand(6,),np.random.rand(6,))\n"
   ]
  },
  {
   "cell_type": "code",
   "execution_count": 3,
   "id": "e98431cc-34eb-401b-9dcd-18c8b7a21c2e",
   "metadata": {},
   "outputs": [
    {
     "data": {
      "text/plain": [
       "array([[0, 0, 1, 0, 0, 0, 0, 1, 0, 0, 0, 0, 0, 1, 0, 1, 0, 0, 0, 0],\n",
       "       [0, 0, 0, 0, 0, 1, 0, 0, 1, 0, 0, 0, 0, 0, 0, 0, 0, 0, 0, 0],\n",
       "       [0, 0, 0, 0, 0, 0, 1, 0, 0, 0, 0, 0, 0, 0, 0, 0, 0, 0, 1, 0],\n",
       "       [0, 1, 0, 0, 0, 1, 1, 0, 0, 0, 0, 0, 0, 1, 0, 0, 1, 0, 0, 0],\n",
       "       [1, 0, 0, 1, 1, 0, 0, 0, 0, 1, 1, 1, 1, 0, 1, 1, 1, 1, 0, 0],\n",
       "       [0, 0, 1, 0, 1, 0, 0, 0, 0, 0, 0, 0, 0, 0, 0, 0, 0, 0, 0, 1],\n",
       "       [0, 1, 0, 0, 0, 0, 0, 0, 0, 0, 0, 0, 0, 0, 0, 0, 0, 0, 1, 0],\n",
       "       [0, 0, 0, 0, 0, 0, 0, 0, 0, 0, 0, 0, 0, 0, 0, 0, 0, 0, 0, 0],\n",
       "       [0, 1, 0, 0, 0, 0, 0, 0, 1, 0, 0, 0, 0, 1, 0, 0, 0, 0, 1, 0],\n",
       "       [0, 0, 0, 0, 0, 0, 0, 0, 0, 0, 0, 0, 0, 0, 1, 0, 0, 1, 0, 0],\n",
       "       [0, 0, 0, 0, 0, 0, 1, 0, 0, 1, 0, 0, 1, 0, 0, 0, 0, 0, 0, 0],\n",
       "       [1, 0, 0, 1, 1, 0, 0, 0, 1, 1, 1, 1, 1, 0, 0, 0, 0, 1, 0, 1],\n",
       "       [0, 0, 1, 0, 0, 0, 0, 0, 0, 0, 0, 0, 0, 0, 0, 1, 0, 0, 0, 0],\n",
       "       [1, 0, 0, 1, 0, 1, 0, 1, 0, 0, 1, 0, 0, 0, 1, 0, 1, 0, 0, 1],\n",
       "       [0, 0, 0, 0, 0, 0, 0, 1, 0, 0, 0, 1, 0, 0, 0, 0, 0, 0, 0, 0]])"
      ]
     },
     "execution_count": 3,
     "metadata": {},
     "output_type": "execute_result"
    }
   ],
   "source": [
    "W = np.random.randint(2,size=(15,20))\n",
    "order = 3\n",
    "for i in range(20):\n",
    "    while sum(W[:,i]) > order:\n",
    "        j = np.where(W[:,i] == 1)[0]\n",
    "        j = np.random.choice(j)\n",
    "        W[j,i] = 0\n",
    "    while sum(W[:,i]) < order:\n",
    "        j = np.where(W[:,i] == 0)[0]\n",
    "        j = np.random.choice(j)\n",
    "        W[j,i] = 1\n",
    "        \n",
    "W"
   ]
  },
  {
   "cell_type": "code",
   "execution_count": 3,
   "id": "ed8acd49-1076-4480-b31b-863b494af865",
   "metadata": {},
   "outputs": [],
   "source": [
    "W = np.array([[1, 1, 0],\n",
    "             [1, 1, 0],\n",
    "             [1, 0, 1],\n",
    "             [0, 1, 1],\n",
    "             [0, 0, 1]])\n",
    "H = HAT.hypergraph.hypergraph(W)\n",
    "H.adjacencyTensor()"
   ]
  },
  {
   "cell_type": "code",
   "execution_count": 4,
   "id": "b4d14565-0bab-4820-99d2-bf0b46293016",
   "metadata": {},
   "outputs": [
    {
     "ename": "NameError",
     "evalue": "name 'W' is not defined",
     "output_type": "error",
     "traceback": [
      "\u001b[0;31m---------------------------------------------------------------------------\u001b[0m",
      "\u001b[0;31mNameError\u001b[0m                                 Traceback (most recent call last)",
      "\u001b[0;32m/tmp/ipykernel_1931511/3568337654.py\u001b[0m in \u001b[0;36m<module>\u001b[0;34m\u001b[0m\n\u001b[1;32m      1\u001b[0m \u001b[0mH\u001b[0m \u001b[0;34m=\u001b[0m \u001b[0mHAT\u001b[0m\u001b[0;34m.\u001b[0m\u001b[0mhypergraph\u001b[0m\u001b[0;34m.\u001b[0m\u001b[0mhypergraph\u001b[0m\u001b[0;34m(\u001b[0m\u001b[0mW\u001b[0m\u001b[0;34m)\u001b[0m\u001b[0;34m\u001b[0m\u001b[0;34m\u001b[0m\u001b[0m\n\u001b[0;32m----> 2\u001b[0;31m \u001b[0mH\u001b[0m\u001b[0;34m.\u001b[0m\u001b[0madjacencyTensor\u001b[0m\u001b[0;34m(\u001b[0m\u001b[0;34m)\u001b[0m\u001b[0;34m\u001b[0m\u001b[0;34m\u001b[0m\u001b[0m\n\u001b[0m",
      "\u001b[0;32m~/Hypergraph-Analysis-Toolbox/Python/HAT/hypergraph.py\u001b[0m in \u001b[0;36madjacencyTensor\u001b[0;34m(self)\u001b[0m\n\u001b[1;32m     73\u001b[0m         \u001b[0mmodes\u001b[0m \u001b[0;34m=\u001b[0m \u001b[0mlen\u001b[0m\u001b[0;34m(\u001b[0m\u001b[0mself\u001b[0m\u001b[0;34m.\u001b[0m\u001b[0mIM\u001b[0m\u001b[0;34m)\u001b[0m \u001b[0;34m*\u001b[0m \u001b[0mnp\u001b[0m\u001b[0;34m.\u001b[0m\u001b[0mones\u001b[0m\u001b[0;34m(\u001b[0m\u001b[0morder\u001b[0m\u001b[0;34m)\u001b[0m\u001b[0;34m\u001b[0m\u001b[0;34m\u001b[0m\u001b[0m\n\u001b[1;32m     74\u001b[0m         \u001b[0mA\u001b[0m \u001b[0;34m=\u001b[0m \u001b[0mnp\u001b[0m\u001b[0;34m.\u001b[0m\u001b[0mzeros\u001b[0m\u001b[0;34m(\u001b[0m\u001b[0mmodes\u001b[0m\u001b[0;34m.\u001b[0m\u001b[0mastype\u001b[0m\u001b[0;34m(\u001b[0m\u001b[0mint\u001b[0m\u001b[0;34m)\u001b[0m\u001b[0;34m)\u001b[0m\u001b[0;34m\u001b[0m\u001b[0;34m\u001b[0m\u001b[0m\n\u001b[0;32m---> 75\u001b[0;31m         \u001b[0;32mfor\u001b[0m \u001b[0me\u001b[0m \u001b[0;32min\u001b[0m \u001b[0mrange\u001b[0m\u001b[0;34m(\u001b[0m\u001b[0mlen\u001b[0m\u001b[0;34m(\u001b[0m\u001b[0mW\u001b[0m\u001b[0;34m[\u001b[0m\u001b[0;36m0\u001b[0m\u001b[0;34m]\u001b[0m\u001b[0;34m)\u001b[0m\u001b[0;34m)\u001b[0m\u001b[0;34m:\u001b[0m\u001b[0;34m\u001b[0m\u001b[0;34m\u001b[0m\u001b[0m\n\u001b[0m\u001b[1;32m     76\u001b[0m             \u001b[0mvxc\u001b[0m \u001b[0;34m=\u001b[0m \u001b[0mnp\u001b[0m\u001b[0;34m.\u001b[0m\u001b[0mwhere\u001b[0m\u001b[0;34m(\u001b[0m\u001b[0mW\u001b[0m\u001b[0;34m[\u001b[0m\u001b[0;34m:\u001b[0m\u001b[0;34m,\u001b[0m \u001b[0me\u001b[0m\u001b[0;34m]\u001b[0m \u001b[0;34m==\u001b[0m \u001b[0;36m1\u001b[0m\u001b[0;34m)\u001b[0m\u001b[0;34m[\u001b[0m\u001b[0;36m0\u001b[0m\u001b[0;34m]\u001b[0m\u001b[0;34m\u001b[0m\u001b[0;34m\u001b[0m\u001b[0m\n\u001b[1;32m     77\u001b[0m             \u001b[0mvxc\u001b[0m \u001b[0;34m=\u001b[0m \u001b[0mlist\u001b[0m\u001b[0;34m(\u001b[0m\u001b[0mpermutations\u001b[0m\u001b[0;34m(\u001b[0m\u001b[0mvxc\u001b[0m\u001b[0;34m)\u001b[0m\u001b[0;34m)\u001b[0m\u001b[0;34m\u001b[0m\u001b[0;34m\u001b[0m\u001b[0m\n",
      "\u001b[0;31mNameError\u001b[0m: name 'W' is not defined"
     ]
    }
   ],
   "source": [
    "H = HAT.hypergraph.hypergraph(W)\n",
    "H.adjacencyTensor()"
   ]
  },
  {
   "cell_type": "code",
   "execution_count": 3,
   "id": "44368123-fbc0-471a-a069-b50ef326b97f",
   "metadata": {},
   "outputs": [
    {
     "data": {
      "text/plain": [
       "<Figure size 80x240 with 0 Axes>"
      ]
     },
     "execution_count": 3,
     "metadata": {},
     "output_type": "execute_result"
    },
    {
     "data": {
      "text/plain": [
       "<Figure size 80x240 with 0 Axes>"
      ]
     },
     "metadata": {},
     "output_type": "display_data"
    }
   ],
   "source": [
    "from matplotlib.pyplot import figure\n",
    "figure(figsize=(1, 3), dpi=80)"
   ]
  },
  {
   "cell_type": "code",
   "execution_count": 4,
   "id": "2b70bc1c-d566-4126-b762-dd357009893d",
   "metadata": {},
   "outputs": [
    {
     "data": {
      "image/png": "[encoded data removed]",
      "text/plain": [
       "<Figure size 200x333.333 with 1 Axes>"
      ]
     },
     "metadata": {},
     "output_type": "display_data"
    }
   ],
   "source": [
    "colors = [(0.6, 0.4, 0.8),\n",
    "          (0.19, 0.55, 0.91),\n",
    "          (0.31, 0.78, 0.47)]\n",
    "\n",
    "s = 3\n",
    "H = HAT.hypergraph.hypergraph(W)\n",
    "plt.figure(figsize=(3/s,5/s))\n",
    "p = HAT.plot.incidencePlot(H, edgeColors = colors)\n",
    "csfont = {'fontname':'Nimbus Roman'}\n",
    "plt.rcParams[\"font.family\"] = 'cursive'\n",
    "# plt.title('Pore-C Data', **csfont)\n",
    "# plt.xlabel('Concatemer', **csfont)\n",
    "# plt.ylabel('Genomic Loci', **csfont)\n",
    "# plt.xticks([0, 1, 2], ['$e_1$','$e_2$','$e_3$'], **csfont)\n",
    "# plt.yticks([0, 1, 2, 3, 4], ['$v_1$','$v_2$','$v_3$', '$v_4$', '$v_5$'], **csfont)\n",
    "# p.set_size_inches(2,3)\n",
    "# plt.show()\n",
    "plt.savefig('HAT_IM3.png')"
   ]
  },
  {
   "cell_type": "code",
   "execution_count": 4,
   "id": "d2685c67-0233-4e2d-906f-86ee7ec98008",
   "metadata": {},
   "outputs": [
    {
     "data": {
      "text/plain": [
       "(5, 3)"
      ]
     },
     "execution_count": 4,
     "metadata": {},
     "output_type": "execute_result"
    }
   ],
   "source": [
    "W.shape"
   ]
  },
  {
   "cell_type": "code",
   "execution_count": 8,
   "id": "8fc06ddd-f83d-4e76-92ce-5a81c30c4f7c",
   "metadata": {},
   "outputs": [
    {
     "data": {
      "text/plain": [
       "matplotlib.axes._subplots.AxesSubplot"
      ]
     },
     "execution_count": 8,
     "metadata": {},
     "output_type": "execute_result"
    }
   ],
   "source": [
    "type(p)"
   ]
  },
  {
   "cell_type": "code",
   "execution_count": 16,
   "id": "aba5cc55-199a-4852-88fd-369d22e161cd",
   "metadata": {},
   "outputs": [
    {
     "name": "stdout",
     "output_type": "stream",
     "text": [
      "['Liberation Sans', 'Droid Sans Armenian', 'URW Bookman', 'Cantarell', 'Nimbus Sans', 'Droid Sans Ethiopic', 'Nimbus Mono PS', 'Droid Sans', 'Nimbus Sans Narrow', 'Nimbus Sans', 'P052', 'Droid Sans Hebrew', 'Droid Sans Fallback', 'Nimbus Sans', 'DejaVu Sans', 'Cantarell', 'Nimbus Roman', 'Liberation Sans', 'Liberation Sans', 'P052', 'Droid Sans Ethiopic', 'C059', 'Nimbus Sans Narrow', 'Nimbus Roman', 'URW Bookman', 'Cantarell', 'Nimbus Roman', 'DejaVu Sans Mono', 'Droid Sans Tamil', 'Nimbus Roman', 'Nimbus Mono PS', 'D050000L', 'Nimbus Sans Narrow', 'P052', 'C059', 'DejaVu Sans Mono', 'Droid Sans Thai', 'URW Gothic', 'URW Bookman', 'URW Gothic', 'URW Gothic', 'Droid Sans', 'Droid Sans Tamil', 'Droid Sans Japanese', 'DejaVu Sans Mono', 'DejaVu Sans', 'DejaVu Sans', 'Liberation Sans', 'C059', 'DejaVu Sans Mono', 'Nimbus Mono PS', 'Cantarell', 'C059', 'Droid Sans Devanagari', 'DejaVu Sans', 'Droid Sans Arabic', 'Nimbus Sans', 'DejaVu Sans', 'DejaVu Sans', 'Nimbus Mono PS', 'URW Gothic', 'Nimbus Sans Narrow', 'URW Bookman', 'Droid Sans Hebrew', 'Z003', 'DejaVu Sans', 'DejaVu Sans', 'Droid Sans Georgian', 'DejaVu Sans', 'P052']\n"
     ]
    }
   ],
   "source": [
    "flist = matplotlib.font_manager.get_fontconfig_fonts()\n",
    "names = [matplotlib.font_manager.FontProperties(fname=fname).get_name() for fname in flist]\n",
    "print(names)\n"
   ]
  },
  {
   "cell_type": "code",
   "execution_count": 7,
   "id": "da536f3e-3a77-4523-bc98-053598b6fa45",
   "metadata": {},
   "outputs": [
    {
     "data": {
      "text/plain": [
       "(15, 20)"
      ]
     },
     "execution_count": 7,
     "metadata": {},
     "output_type": "execute_result"
    }
   ],
   "source": [
    "W.shape"
   ]
  },
  {
   "cell_type": "code",
   "execution_count": 6,
   "id": "1cce054c-43f0-4716-90ab-bf7d0d977f23",
   "metadata": {},
   "outputs": [
    {
     "data": {
      "text/plain": [
       "Text(0.5, 1.0, 'Incidence Matrix')"
      ]
     },
     "execution_count": 6,
     "metadata": {},
     "output_type": "execute_result"
    },
    {
     "data": {
      "image/png": "[encoded data removed]",
      "text/plain": [
       "<Figure size 432x288 with 1 Axes>"
      ]
     },
     "metadata": {},
     "output_type": "display_data"
    }
   ],
   "source": [
    "y,x = np.where(W == 1)\n",
    "for i in range(len(W[0])):\n",
    "    i_pts = np.where(x == i)\n",
    "    plt.plot([i,i], [np.min(y[i_pts]), np.max(y[i_pts])], zorder=1)\n",
    "plt.tick_params(left = False, right = False, labelleft = False, labelbottom = False, bottom = False)\n",
    "plt.scatter(x,y, zorder=2)\n",
    "plt.title('Incidence Matrix')"
   ]
  },
  {
   "cell_type": "code",
   "execution_count": 41,
   "id": "469d00ab-0889-46ad-8866-149eb390f9e9",
   "metadata": {},
   "outputs": [
    {
     "name": "stdout",
     "output_type": "stream",
     "text": [
      "[ 7 10 12 13 14 15  1  5  6 13 14 17  0  3  9 15 17 19  2  4  6  7 16 18\n",
      "  0  4 10  3  0  6 12 11 14  2  3 18  1  4  5  8 10 11 19  7  9 15 13 16\n",
      " 18  8 11 16 17  1  5 12 19  2  8  9]\n",
      "[ 8 11 13 14 15 16  2  6  7 14 15 18  1  4 10 16 18 20  3  5  7  8 17 19\n",
      "  1  5 11  4  1  7 13 12 15  3  4 19  2  5  6  9 11 12 20  8 10 16 14 17\n",
      " 19  9 12 17 18  2  6 13 20  3  9 10]\n"
     ]
    },
    {
     "data": {
      "image/png": "[encoded data removed]",
      "text/plain": [
       "<Figure size 432x288 with 1 Axes>"
      ]
     },
     "metadata": {},
     "output_type": "display_data"
    }
   ],
   "source": [
    "n = 15\n",
    "e = 20\n",
    "ybar = np.arange(n)\n",
    "xbar = np.zeros(n)\n",
    "xbar[::2] = e+1\n",
    "plt.barh(ybar, xbar, color='silver')\n",
    "y,x = np.where(W == 1)\n",
    "print(x)\n",
    "x += 1\n",
    "print(x)\n",
    "for i in range(len(W[0])):\n",
    "    i_pts = np.where(x == i + 1)\n",
    "    plt.plot([i+1,i+1], [np.min(y[i_pts]), np.max(y[i_pts])], zorder=1)\n",
    "plt.tick_params(left = False, right = False, labelleft = False, labelbottom = False, bottom = False)\n",
    "plt.scatter(x,y, zorder=2)\n",
    "plt.title('Incidence Matrix')\n",
    "plt.xlim([0, e+0.5])\n",
    "plt.xlabel('Hyperedges')\n",
    "plt.ylabel('Vertices')\n",
    "plt.savefig('IncidenceMatrix.png')"
   ]
  },
  {
   "cell_type": "code",
   "execution_count": 4,
   "id": "e8228367-1b08-4470-bacb-4bd59c5621d5",
   "metadata": {},
   "outputs": [
    {
     "data": {
      "image/png": "[encoded data removed]",
      "text/plain": [
       "<Figure size 432x288 with 1 Axes>"
      ]
     },
     "metadata": {},
     "output_type": "display_data"
    }
   ],
   "source": [
    "H = HAT.hypergraph.hypergraph(W)\n",
    "HAT.plot.IM(H)"
   ]
  },
  {
   "cell_type": "code",
   "execution_count": 5,
   "id": "02a0131c-8dc8-4742-91a2-227f208654d0",
   "metadata": {},
   "outputs": [
    {
     "data": {
      "image/png": "[encoded data removed]",
      "text/plain": [
       "<Figure size 432x288 with 1 Axes>"
      ]
     },
     "metadata": {},
     "output_type": "display_data"
    }
   ],
   "source": [
    "DG = H.dualGraph()\n",
    "HAT.plot.IM(DG)"
   ]
  },
  {
   "cell_type": "code",
   "execution_count": 6,
   "id": "e84eb0ed-53a8-49e5-93f0-f4a048724f51",
   "metadata": {},
   "outputs": [
    {
     "data": {
      "text/plain": [
       "array([[0., 0., 1., 0., 0., 0., 0., 1., 0., 0., 1., 0., 0., 1., 0.],\n",
       "       [0., 0., 0., 0., 1., 0., 0., 0., 0., 0., 0., 0., 1., 0., 0.],\n",
       "       [1., 0., 0., 0., 1., 0., 0., 0., 1., 0., 1., 1., 1., 1., 1.],\n",
       "       [0., 0., 0., 0., 0., 0., 0., 0., 0., 0., 1., 1., 0., 0., 1.],\n",
       "       [0., 1., 1., 0., 0., 0., 1., 0., 0., 1., 0., 1., 1., 1., 1.],\n",
       "       [0., 0., 0., 0., 0., 0., 0., 1., 1., 1., 0., 1., 1., 1., 0.],\n",
       "       [0., 0., 0., 0., 1., 0., 0., 1., 0., 1., 1., 1., 0., 0., 1.],\n",
       "       [1., 0., 0., 0., 0., 1., 1., 0., 0., 0., 1., 0., 1., 1., 0.],\n",
       "       [0., 0., 1., 0., 0., 1., 0., 0., 0., 1., 1., 1., 0., 1., 1.],\n",
       "       [0., 0., 0., 0., 1., 1., 1., 0., 1., 0., 1., 1., 1., 1., 1.],\n",
       "       [1., 0., 1., 1., 0., 0., 1., 1., 1., 1., 0., 1., 1., 0., 1.],\n",
       "       [0., 0., 1., 1., 1., 1., 1., 0., 1., 1., 1., 0., 0., 1., 0.],\n",
       "       [0., 1., 1., 0., 1., 1., 0., 1., 0., 1., 1., 0., 0., 0., 1.],\n",
       "       [1., 0., 1., 0., 1., 1., 0., 1., 1., 1., 0., 1., 0., 0., 1.],\n",
       "       [0., 0., 1., 1., 1., 0., 1., 0., 1., 1., 1., 0., 1., 1., 0.]])"
      ]
     },
     "execution_count": 6,
     "metadata": {},
     "output_type": "execute_result"
    }
   ],
   "source": [
    "C = H.cliqueExpand()\n",
    "C.A"
   ]
  },
  {
   "cell_type": "code",
   "execution_count": 7,
   "id": "0ef53357-54c5-4bff-b9de-c04660c103a2",
   "metadata": {},
   "outputs": [
    {
     "data": {
      "text/plain": [
       "35"
      ]
     },
     "execution_count": 7,
     "metadata": {},
     "output_type": "execute_result"
    }
   ],
   "source": [
    "S = H.starGraph()\n",
    "len(S.A)"
   ]
  },
  {
   "cell_type": "code",
   "execution_count": 8,
   "id": "4f19062c-558d-40eb-ab97-f5d245f28cbc",
   "metadata": {},
   "outputs": [
    {
     "name": "stdout",
     "output_type": "stream",
     "text": [
      "[[0. 0. 1. 0. 0. 0. 0. 1. 0. 0. 1. 0. 0. 1. 0.]\n",
      " [0. 0. 0. 0. 1. 0. 0. 0. 0. 0. 0. 0. 1. 0. 0.]\n",
      " [1. 0. 0. 0. 1. 0. 0. 0. 1. 0. 1. 1. 1. 1. 1.]\n",
      " [0. 0. 0. 0. 0. 0. 0. 0. 0. 0. 1. 1. 0. 0. 1.]\n",
      " [0. 1. 1. 0. 0. 0. 1. 0. 0. 1. 0. 1. 1. 1. 1.]\n",
      " [0. 0. 0. 0. 0. 0. 0. 1. 1. 1. 0. 1. 1. 1. 0.]\n",
      " [0. 0. 0. 0. 1. 0. 0. 1. 0. 1. 1. 1. 0. 0. 1.]\n",
      " [1. 0. 0. 0. 0. 1. 1. 0. 0. 0. 1. 0. 1. 1. 0.]\n",
      " [0. 0. 1. 0. 0. 1. 0. 0. 0. 1. 1. 1. 0. 1. 1.]\n",
      " [0. 0. 0. 0. 1. 1. 1. 0. 1. 0. 1. 1. 1. 1. 1.]\n",
      " [1. 0. 1. 1. 0. 0. 1. 1. 1. 1. 0. 1. 1. 0. 1.]\n",
      " [0. 0. 1. 1. 1. 1. 1. 0. 1. 1. 1. 0. 0. 1. 0.]\n",
      " [0. 1. 1. 0. 1. 1. 0. 1. 0. 1. 1. 0. 0. 0. 1.]\n",
      " [1. 0. 1. 0. 1. 1. 0. 1. 1. 1. 0. 1. 0. 0. 1.]\n",
      " [0. 0. 1. 1. 1. 0. 1. 0. 1. 1. 1. 0. 1. 1. 0.]]\n",
      "[[0. 0. 1. 0. 0. 0. 0. 1. 0. 0. 1. 0. 0. 1. 0.]\n",
      " [0. 0. 0. 0. 1. 0. 0. 0. 0. 0. 0. 0. 1. 0. 0.]\n",
      " [1. 0. 0. 0. 1. 0. 0. 0. 1. 0. 1. 1. 1. 1. 1.]\n",
      " [0. 0. 0. 0. 0. 0. 0. 0. 0. 0. 1. 1. 0. 0. 1.]\n",
      " [0. 1. 1. 0. 0. 0. 1. 0. 0. 1. 0. 1. 1. 1. 1.]\n",
      " [0. 0. 0. 0. 0. 0. 0. 1. 1. 1. 0. 1. 1. 1. 0.]\n",
      " [0. 0. 0. 0. 1. 0. 0. 1. 0. 1. 1. 1. 0. 0. 1.]\n",
      " [1. 0. 0. 0. 0. 1. 1. 0. 0. 0. 1. 0. 1. 1. 0.]\n",
      " [0. 0. 1. 0. 0. 1. 0. 0. 0. 1. 1. 1. 0. 1. 1.]\n",
      " [0. 0. 0. 0. 1. 1. 1. 0. 1. 0. 1. 1. 1. 1. 1.]\n",
      " [1. 0. 1. 1. 0. 0. 1. 1. 1. 1. 0. 1. 1. 0. 1.]\n",
      " [0. 0. 1. 1. 1. 1. 1. 0. 1. 1. 1. 0. 0. 1. 0.]\n",
      " [0. 1. 1. 0. 1. 1. 0. 1. 0. 1. 1. 0. 0. 0. 1.]\n",
      " [1. 0. 1. 0. 1. 1. 0. 1. 1. 1. 0. 1. 0. 0. 1.]\n",
      " [0. 0. 1. 1. 1. 0. 1. 0. 1. 1. 1. 0. 1. 1. 0.]]\n"
     ]
    },
    {
     "data": {
      "text/plain": [
       "array([[0., 0., 1., 0., 0., 0., 0., 1., 0., 0., 1., 0., 0., 1., 0.],\n",
       "       [0., 0., 0., 0., 1., 0., 0., 0., 0., 0., 0., 0., 1., 0., 0.],\n",
       "       [1., 0., 0., 0., 1., 0., 0., 0., 1., 0., 1., 1., 1., 1., 1.],\n",
       "       [0., 0., 0., 0., 0., 0., 0., 0., 0., 0., 1., 1., 0., 0., 1.],\n",
       "       [0., 1., 1., 0., 0., 0., 1., 0., 0., 1., 0., 1., 1., 1., 1.],\n",
       "       [0., 0., 0., 0., 0., 0., 0., 1., 1., 1., 0., 1., 1., 1., 0.],\n",
       "       [0., 0., 0., 0., 1., 0., 0., 1., 0., 1., 1., 1., 0., 0., 1.],\n",
       "       [1., 0., 0., 0., 0., 1., 1., 0., 0., 0., 1., 0., 1., 1., 0.],\n",
       "       [0., 0., 1., 0., 0., 1., 0., 0., 0., 1., 1., 1., 0., 1., 1.],\n",
       "       [0., 0., 0., 0., 1., 1., 1., 0., 1., 0., 1., 1., 1., 1., 1.],\n",
       "       [1., 0., 1., 1., 0., 0., 1., 1., 1., 1., 0., 1., 1., 0., 1.],\n",
       "       [0., 0., 1., 1., 1., 1., 1., 0., 1., 1., 1., 0., 0., 1., 0.],\n",
       "       [0., 1., 1., 0., 1., 1., 0., 1., 0., 1., 1., 0., 0., 0., 1.],\n",
       "       [1., 0., 1., 0., 1., 1., 0., 1., 1., 1., 0., 1., 0., 0., 1.],\n",
       "       [0., 0., 1., 1., 1., 0., 1., 0., 1., 1., 1., 0., 1., 1., 0.]])"
      ]
     },
     "execution_count": 8,
     "metadata": {},
     "output_type": "execute_result"
    }
   ],
   "source": [
    "# Avg distances\n",
    "A = C.A\n",
    "A\n",
    "connected = np.zeros(A.shape)\n",
    "connected[A != 0] = 1\n",
    "print(connected)\n",
    "N = A * A\n",
    "connected[N != 0] = 1\n",
    "print(connected)\n",
    "N"
   ]
  },
  {
   "cell_type": "code",
   "execution_count": 9,
   "id": "fffa44f1-f68d-411d-82df-04914dba1ca2",
   "metadata": {},
   "outputs": [
    {
     "ename": "NameError",
     "evalue": "name 'permutations' is not defined",
     "output_type": "error",
     "traceback": [
      "\u001b[0;31m---------------------------------------------------------------------------\u001b[0m",
      "\u001b[0;31mNameError\u001b[0m                                 Traceback (most recent call last)",
      "\u001b[0;32m/tmp/ipykernel_4142119/2271562200.py\u001b[0m in \u001b[0;36m<module>\u001b[0;34m\u001b[0m\n\u001b[1;32m      4\u001b[0m \u001b[0;32mfor\u001b[0m \u001b[0me\u001b[0m \u001b[0;32min\u001b[0m \u001b[0mrange\u001b[0m\u001b[0;34m(\u001b[0m\u001b[0mlen\u001b[0m\u001b[0;34m(\u001b[0m\u001b[0mW\u001b[0m\u001b[0;34m[\u001b[0m\u001b[0;36m0\u001b[0m\u001b[0;34m]\u001b[0m\u001b[0;34m)\u001b[0m\u001b[0;34m)\u001b[0m\u001b[0;34m:\u001b[0m\u001b[0;34m\u001b[0m\u001b[0;34m\u001b[0m\u001b[0m\n\u001b[1;32m      5\u001b[0m     \u001b[0mvxc\u001b[0m \u001b[0;34m=\u001b[0m \u001b[0mnp\u001b[0m\u001b[0;34m.\u001b[0m\u001b[0mwhere\u001b[0m\u001b[0;34m(\u001b[0m\u001b[0mW\u001b[0m\u001b[0;34m[\u001b[0m\u001b[0;34m:\u001b[0m\u001b[0;34m,\u001b[0m \u001b[0me\u001b[0m\u001b[0;34m]\u001b[0m \u001b[0;34m==\u001b[0m \u001b[0;36m1\u001b[0m\u001b[0;34m)\u001b[0m\u001b[0;34m[\u001b[0m\u001b[0;36m0\u001b[0m\u001b[0;34m]\u001b[0m\u001b[0;34m\u001b[0m\u001b[0;34m\u001b[0m\u001b[0m\n\u001b[0;32m----> 6\u001b[0;31m     \u001b[0mvxc\u001b[0m \u001b[0;34m=\u001b[0m \u001b[0mlist\u001b[0m\u001b[0;34m(\u001b[0m\u001b[0mpermutations\u001b[0m\u001b[0;34m(\u001b[0m\u001b[0mvxc\u001b[0m\u001b[0;34m)\u001b[0m\u001b[0;34m)\u001b[0m\u001b[0;34m\u001b[0m\u001b[0;34m\u001b[0m\u001b[0m\n\u001b[0m\u001b[1;32m      7\u001b[0m     \u001b[0;32mfor\u001b[0m \u001b[0mp\u001b[0m \u001b[0;32min\u001b[0m \u001b[0mvxc\u001b[0m\u001b[0;34m:\u001b[0m\u001b[0;34m\u001b[0m\u001b[0;34m\u001b[0m\u001b[0m\n\u001b[1;32m      8\u001b[0m         \u001b[0mA\u001b[0m\u001b[0;34m[\u001b[0m\u001b[0mp\u001b[0m\u001b[0;34m]\u001b[0m \u001b[0;34m=\u001b[0m \u001b[0;36m1\u001b[0m\u001b[0;34m\u001b[0m\u001b[0;34m\u001b[0m\u001b[0m\n",
      "\u001b[0;31mNameError\u001b[0m: name 'permutations' is not defined"
     ]
    }
   ],
   "source": [
    "order = sum(W[:,0])\n",
    "modes = len(W) * np.ones(order)\n",
    "A = np.zeros(modes.astype(int))\n",
    "for e in range(len(W[0])):\n",
    "    vxc = np.where(W[:, e] == 1)[0]\n",
    "    vxc = list(permutations(vxc))\n",
    "    for p in vxc:\n",
    "        A[p] = 1\n",
    "    "
   ]
  },
  {
   "cell_type": "code",
   "execution_count": 10,
   "id": "ef05feea-19b6-47c9-a8cf-21427501ed34",
   "metadata": {},
   "outputs": [
    {
     "data": {
      "text/plain": [
       "array([[[0., 0., 0., ..., 0., 0., 0.],\n",
       "        [0., 0., 0., ..., 0., 0., 0.],\n",
       "        [0., 0., 0., ..., 0., 0., 0.],\n",
       "        ...,\n",
       "        [0., 0., 0., ..., 0., 0., 0.],\n",
       "        [0., 0., 0., ..., 0., 0., 0.],\n",
       "        [0., 0., 0., ..., 0., 0., 0.]],\n",
       "\n",
       "       [[0., 0., 0., ..., 0., 0., 0.],\n",
       "        [0., 0., 0., ..., 0., 0., 0.],\n",
       "        [0., 0., 0., ..., 0., 0., 0.],\n",
       "        ...,\n",
       "        [0., 0., 0., ..., 0., 0., 0.],\n",
       "        [0., 0., 0., ..., 0., 0., 0.],\n",
       "        [0., 0., 0., ..., 0., 0., 0.]],\n",
       "\n",
       "       [[0., 0., 0., ..., 0., 0., 0.],\n",
       "        [0., 0., 0., ..., 0., 0., 0.],\n",
       "        [0., 0., 0., ..., 0., 0., 0.],\n",
       "        ...,\n",
       "        [0., 0., 0., ..., 0., 0., 0.],\n",
       "        [0., 0., 0., ..., 0., 0., 0.],\n",
       "        [0., 0., 0., ..., 0., 0., 0.]],\n",
       "\n",
       "       ...,\n",
       "\n",
       "       [[0., 0., 0., ..., 0., 0., 0.],\n",
       "        [0., 0., 0., ..., 0., 0., 0.],\n",
       "        [0., 0., 0., ..., 0., 0., 0.],\n",
       "        ...,\n",
       "        [0., 0., 0., ..., 0., 0., 0.],\n",
       "        [0., 0., 0., ..., 0., 0., 0.],\n",
       "        [0., 0., 0., ..., 0., 0., 0.]],\n",
       "\n",
       "       [[0., 0., 0., ..., 0., 0., 0.],\n",
       "        [0., 0., 0., ..., 0., 0., 0.],\n",
       "        [0., 0., 0., ..., 0., 0., 0.],\n",
       "        ...,\n",
       "        [0., 0., 0., ..., 0., 0., 0.],\n",
       "        [0., 0., 0., ..., 0., 0., 0.],\n",
       "        [0., 0., 0., ..., 0., 0., 0.]],\n",
       "\n",
       "       [[0., 0., 0., ..., 0., 0., 0.],\n",
       "        [0., 0., 0., ..., 0., 0., 0.],\n",
       "        [0., 0., 0., ..., 0., 0., 0.],\n",
       "        ...,\n",
       "        [0., 0., 0., ..., 0., 0., 0.],\n",
       "        [0., 0., 0., ..., 0., 0., 0.],\n",
       "        [0., 0., 0., ..., 0., 0., 0.]]])"
      ]
     },
     "execution_count": 10,
     "metadata": {},
     "output_type": "execute_result"
    }
   ],
   "source": [
    "A"
   ]
  },
  {
   "cell_type": "code",
   "execution_count": 50,
   "id": "18775d7e-dd91-415b-b946-e5ad8f0a4413",
   "metadata": {},
   "outputs": [
    {
     "data": {
      "text/plain": [
       "0.0"
      ]
     },
     "execution_count": 50,
     "metadata": {},
     "output_type": "execute_result"
    }
   ],
   "source": []
  },
  {
   "cell_type": "code",
   "execution_count": 11,
   "id": "b758c8fe-8f9b-4e49-b2e7-5e9b906c86d9",
   "metadata": {},
   "outputs": [
    {
     "data": {
      "text/plain": [
       "3"
      ]
     },
     "execution_count": 11,
     "metadata": {},
     "output_type": "execute_result"
    }
   ],
   "source": [
    "order"
   ]
  },
  {
   "cell_type": "code",
   "execution_count": 28,
   "id": "800bf8e9-13c8-4a26-af19-a18ac6cb41e1",
   "metadata": {},
   "outputs": [],
   "source": [
    "A = np.random.rand(2,2,2,2)"
   ]
  },
  {
   "cell_type": "code",
   "execution_count": 43,
   "id": "80bd96f0-c0c4-40f3-bcf9-02fd48d30b5f",
   "metadata": {},
   "outputs": [
    {
     "data": {
      "text/plain": [
       "[(11, 12, 14),\n",
       " (11, 14, 12),\n",
       " (12, 11, 14),\n",
       " (12, 14, 11),\n",
       " (14, 11, 12),\n",
       " (14, 12, 11)]"
      ]
     },
     "execution_count": 43,
     "metadata": {},
     "output_type": "execute_result"
    }
   ],
   "source": [
    "from itertools import permutations\n",
    "p = list(permutations(vxc))\n",
    "p"
   ]
  },
  {
   "cell_type": "code",
   "execution_count": 39,
   "id": "3312ca34-2908-423b-a1ed-f13a3542c1ff",
   "metadata": {},
   "outputs": [],
   "source": [
    "vxc = vxc[0]"
   ]
  },
  {
   "cell_type": "code",
   "execution_count": 1,
   "id": "aa6d4149-eb85-4ac4-977d-6de1e7892c3e",
   "metadata": {},
   "outputs": [
    {
     "name": "stdout",
     "output_type": "stream",
     "text": [
      "HAT Imported\n"
     ]
    }
   ],
   "source": [
    "import numpy as np\n",
    "import HAT"
   ]
  },
  {
   "cell_type": "code",
   "execution_count": 36,
   "id": "9b33dd0a-403f-4759-9b68-4b71e1887da1",
   "metadata": {},
   "outputs": [],
   "source": [
    "A = np.array([[0, 1, 1, 1],\n",
    "     [1, 0, 1, 0],\n",
    "     [1, 1, 0, 0],\n",
    "     [1, 0, 0, 0]])"
   ]
  },
  {
   "cell_type": "code",
   "execution_count": 3,
   "id": "54863ab8-dd04-4459-a13b-db92f9bbffb7",
   "metadata": {},
   "outputs": [
    {
     "data": {
      "text/plain": [
       "array([[3, 0, 0, 0],\n",
       "       [0, 2, 0, 0],\n",
       "       [0, 0, 2, 0],\n",
       "       [0, 0, 0, 1]])"
      ]
     },
     "execution_count": 3,
     "metadata": {},
     "output_type": "execute_result"
    }
   ],
   "source": [
    "np.diag(sum(A))"
   ]
  },
  {
   "cell_type": "code",
   "execution_count": 4,
   "id": "1f31a2f7-f6d7-42db-b8dc-db44d9766cc7",
   "metadata": {},
   "outputs": [],
   "source": [
    "G = HAT.graph.graph(A)"
   ]
  },
  {
   "cell_type": "code",
   "execution_count": 6,
   "id": "78d2e16f-febe-4809-9e54-fe3010d046f1",
   "metadata": {},
   "outputs": [
    {
     "name": "stdout",
     "output_type": "stream",
     "text": [
      "[[0 1 1 1]\n",
      " [1 0 1 0]\n",
      " [1 1 0 0]\n",
      " [1 0 0 0]]\n",
      "[[0 1 1 1]\n",
      " [1 0 1 0]\n",
      " [1 1 0 0]\n",
      " [1 0 0 0]]\n"
     ]
    },
    {
     "data": {
      "text/plain": [
       "2"
      ]
     },
     "execution_count": 6,
     "metadata": {},
     "output_type": "execute_result"
    }
   ],
   "source": [
    "G.pairwiseDistance(2, 3)"
   ]
  },
  {
   "cell_type": "code",
   "execution_count": 5,
   "id": "339c9394-bae7-4e6b-8044-63529eb54e04",
   "metadata": {},
   "outputs": [
    {
     "data": {
      "text/plain": [
       "array([[3, 0, 0, 0],\n",
       "       [0, 2, 0, 0],\n",
       "       [0, 0, 2, 0],\n",
       "       [0, 0, 0, 1]])"
      ]
     },
     "execution_count": 5,
     "metadata": {},
     "output_type": "execute_result"
    }
   ],
   "source": [
    "G.degree"
   ]
  },
  {
   "cell_type": "code",
   "execution_count": 7,
   "id": "9af91852-c832-43f8-8a05-a6e3fec4d914",
   "metadata": {},
   "outputs": [
    {
     "data": {
      "text/plain": [
       "array([[ 3, -1, -1, -1],\n",
       "       [-1,  2, -1,  0],\n",
       "       [-1, -1,  2,  0],\n",
       "       [-1,  0,  0,  1]])"
      ]
     },
     "execution_count": 7,
     "metadata": {},
     "output_type": "execute_result"
    }
   ],
   "source": [
    "G.laplacian"
   ]
  },
  {
   "cell_type": "code",
   "execution_count": 12,
   "id": "f2db0d62-b519-4eb2-9cfe-dfedb1fa710b",
   "metadata": {},
   "outputs": [
    {
     "data": {
      "text/plain": [
       "array([1, 2, 3, 4])"
      ]
     },
     "execution_count": 12,
     "metadata": {},
     "output_type": "execute_result"
    }
   ],
   "source": [
    "n = np.array([1,2,3])\n",
    "4 in n\n",
    "n = np.append(n,4)\n",
    "n"
   ]
  },
  {
   "cell_type": "code",
   "execution_count": 18,
   "id": "3f6ce7ca-dee7-4100-9ca9-40673791b16f",
   "metadata": {},
   "outputs": [
    {
     "name": "stdout",
     "output_type": "stream",
     "text": [
      "[[0.04713538 0.62746121 0.19786109 0.08640147 0.92553729]\n",
      " [0.24923205 0.28057835 0.21948985 0.66755915 0.33732904]\n",
      " [0.67218613 0.22150809 0.15144076 0.78018923 0.11056566]\n",
      " [0.9057822  0.0300012  0.59636402 0.68884875 0.4810034 ]\n",
      " [0.52532793 0.29179414 0.7061751  0.57190995 0.97090276]]\n",
      "[[0.24923205 0.28057835 0.21948985 0.66755915 0.33732904]\n",
      " [0.67218613 0.22150809 0.15144076 0.78018923 0.11056566]\n",
      " [0.9057822  0.0300012  0.59636402 0.68884875 0.4810034 ]\n",
      " [0.52532793 0.29179414 0.7061751  0.57190995 0.97090276]]\n",
      "[[0.28057835 0.21948985 0.66755915 0.33732904]\n",
      " [0.22150809 0.15144076 0.78018923 0.11056566]\n",
      " [0.0300012  0.59636402 0.68884875 0.4810034 ]\n",
      " [0.29179414 0.7061751  0.57190995 0.97090276]]\n"
     ]
    }
   ],
   "source": [
    "A = np.random.rand(5,5)\n",
    "print(A)\n",
    "print(A[n,:])\n",
    "A = A[n,:]\n",
    "print(A[:,n])"
   ]
  },
  {
   "cell_type": "code",
   "execution_count": 20,
   "id": "ca90d0b4-6444-4465-86d9-fe0a9cba60e1",
   "metadata": {},
   "outputs": [
    {
     "name": "stdout",
     "output_type": "stream",
     "text": [
      "Defaulting to user installation because normal site-packages is not writeable\n",
      "Collecting pyvis\n",
      "  Downloading pyvis-0.3.0.tar.gz (592 kB)\n",
      "\u001b[K     |████████████████████████████████| 592 kB 21.1 MB/s eta 0:00:01\n",
      "\u001b[?25hRequirement already satisfied: jinja2>=2.9.6 in /sw/pkgs/arc/python3.9-anaconda/2021.11/lib/python3.9/site-packages (from pyvis) (2.11.3)\n",
      "Requirement already satisfied: networkx>=1.11 in /sw/pkgs/arc/python3.9-anaconda/2021.11/lib/python3.9/site-packages (from pyvis) (2.6.3)\n",
      "Requirement already satisfied: ipython>=5.3.0 in /sw/pkgs/arc/python3.9-anaconda/2021.11/lib/python3.9/site-packages (from pyvis) (7.29.0)\n",
      "Collecting jsonpickle>=1.4.1\n",
      "  Downloading jsonpickle-2.2.0-py2.py3-none-any.whl (39 kB)\n",
      "Requirement already satisfied: pickleshare in /sw/pkgs/arc/python3.9-anaconda/2021.11/lib/python3.9/site-packages (from ipython>=5.3.0->pyvis) (0.7.5)\n",
      "Requirement already satisfied: traitlets>=4.2 in /sw/pkgs/arc/python3.9-anaconda/2021.11/lib/python3.9/site-packages (from ipython>=5.3.0->pyvis) (5.1.0)\n",
      "Requirement already satisfied: pygments in /sw/pkgs/arc/python3.9-anaconda/2021.11/lib/python3.9/site-packages (from ipython>=5.3.0->pyvis) (2.10.0)\n",
      "Requirement already satisfied: backcall in /sw/pkgs/arc/python3.9-anaconda/2021.11/lib/python3.9/site-packages (from ipython>=5.3.0->pyvis) (0.2.0)\n",
      "Requirement already satisfied: pexpect>4.3 in /sw/pkgs/arc/python3.9-anaconda/2021.11/lib/python3.9/site-packages (from ipython>=5.3.0->pyvis) (4.8.0)\n",
      "Requirement already satisfied: matplotlib-inline in /sw/pkgs/arc/python3.9-anaconda/2021.11/lib/python3.9/site-packages (from ipython>=5.3.0->pyvis) (0.1.2)\n",
      "Requirement already satisfied: jedi>=0.16 in /sw/pkgs/arc/python3.9-anaconda/2021.11/lib/python3.9/site-packages (from ipython>=5.3.0->pyvis) (0.18.0)\n",
      "Requirement already satisfied: decorator in /sw/pkgs/arc/python3.9-anaconda/2021.11/lib/python3.9/site-packages (from ipython>=5.3.0->pyvis) (5.1.0)\n",
      "Requirement already satisfied: prompt-toolkit!=3.0.0,!=3.0.1,<3.1.0,>=2.0.0 in /sw/pkgs/arc/python3.9-anaconda/2021.11/lib/python3.9/site-packages (from ipython>=5.3.0->pyvis) (3.0.20)\n",
      "Requirement already satisfied: setuptools>=18.5 in /sw/pkgs/arc/python3.9-anaconda/2021.11/lib/python3.9/site-packages (from ipython>=5.3.0->pyvis) (58.0.4)\n",
      "Requirement already satisfied: parso<0.9.0,>=0.8.0 in /sw/pkgs/arc/python3.9-anaconda/2021.11/lib/python3.9/site-packages (from jedi>=0.16->ipython>=5.3.0->pyvis) (0.8.2)\n",
      "Requirement already satisfied: MarkupSafe>=0.23 in /sw/pkgs/arc/python3.9-anaconda/2021.11/lib/python3.9/site-packages (from jinja2>=2.9.6->pyvis) (1.1.1)\n",
      "Requirement already satisfied: ptyprocess>=0.5 in /sw/pkgs/arc/python3.9-anaconda/2021.11/lib/python3.9/site-packages (from pexpect>4.3->ipython>=5.3.0->pyvis) (0.7.0)\n",
      "Requirement already satisfied: wcwidth in /sw/pkgs/arc/python3.9-anaconda/2021.11/lib/python3.9/site-packages (from prompt-toolkit!=3.0.0,!=3.0.1,<3.1.0,>=2.0.0->ipython>=5.3.0->pyvis) (0.2.5)\n",
      "Building wheels for collected packages: pyvis\n",
      "  Building wheel for pyvis (setup.py) ... \u001b[?25ldone\n",
      "\u001b[?25h  Created wheel for pyvis: filename=pyvis-0.3.0-py3-none-any.whl size=600248 sha256=2f621dc65298ec2c123d4223af62df91324d0e5de4fd85498597b5c187f1972e\n",
      "  Stored in directory: /home/jpic/.cache/pip/wheels/ec/07/ee/9d7b8d1363fb7ad9bea6b94e494b476419cf8847e56a92ec89\n",
      "Successfully built pyvis\n",
      "Installing collected packages: jsonpickle, pyvis\n",
      "Successfully installed jsonpickle-2.2.0 pyvis-0.3.0\n"
     ]
    }
   ],
   "source": [
    "!pip install pyvis"
   ]
  },
  {
   "cell_type": "code",
   "execution_count": 19,
   "id": "45372a6f-3445-48c6-99b7-4ec3a84c9b3f",
   "metadata": {},
   "outputs": [
    {
     "ename": "NameError",
     "evalue": "name 'graph' is not defined",
     "output_type": "error",
     "traceback": [
      "\u001b[0;31m---------------------------------------------------------------------------\u001b[0m",
      "\u001b[0;31mNameError\u001b[0m                                 Traceback (most recent call last)",
      "\u001b[0;32m/tmp/ipykernel_4142119/3688830360.py\u001b[0m in \u001b[0;36m<module>\u001b[0;34m\u001b[0m\n\u001b[1;32m      1\u001b[0m \u001b[0mG\u001b[0m \u001b[0;34m=\u001b[0m \u001b[0mHAT\u001b[0m\u001b[0;34m.\u001b[0m\u001b[0mgraph\u001b[0m\u001b[0;34m.\u001b[0m\u001b[0mgraph\u001b[0m\u001b[0;34m(\u001b[0m\u001b[0mnp\u001b[0m\u001b[0;34m.\u001b[0m\u001b[0marray\u001b[0m\u001b[0;34m(\u001b[0m\u001b[0;34m[\u001b[0m\u001b[0;34m[\u001b[0m\u001b[0;36m0\u001b[0m\u001b[0;34m,\u001b[0m\u001b[0;36m1\u001b[0m\u001b[0;34m]\u001b[0m\u001b[0;34m,\u001b[0m\u001b[0;34m[\u001b[0m\u001b[0;36m1\u001b[0m\u001b[0;34m,\u001b[0m\u001b[0;36m0\u001b[0m\u001b[0;34m]\u001b[0m\u001b[0;34m]\u001b[0m\u001b[0;34m)\u001b[0m\u001b[0;34m)\u001b[0m\u001b[0;34m\u001b[0m\u001b[0;34m\u001b[0m\u001b[0m\n\u001b[0;32m----> 2\u001b[0;31m \u001b[0mgraph\u001b[0m\u001b[0;34m.\u001b[0m\u001b[0merdosRenyi\u001b[0m\u001b[0;34m(\u001b[0m\u001b[0;36m5\u001b[0m\u001b[0;34m,\u001b[0m\u001b[0;36m0.5\u001b[0m\u001b[0;34m)\u001b[0m\u001b[0;34m\u001b[0m\u001b[0;34m\u001b[0m\u001b[0m\n\u001b[0m",
      "\u001b[0;31mNameError\u001b[0m: name 'graph' is not defined"
     ]
    }
   ],
   "source": [
    "G = HAT.graph.graph(np.array([[0,1],[1,0]]))\n",
    "graph.erdosRenyi(5,0.5)"
   ]
  },
  {
   "cell_type": "code",
   "execution_count": 3,
   "id": "bcde5082-056d-4df3-a0ec-24317b0c8159",
   "metadata": {},
   "outputs": [
    {
     "ename": "AttributeError",
     "evalue": "module 'HAT' has no attribute 'erdosRenyi'",
     "output_type": "error",
     "traceback": [
      "\u001b[0;31m---------------------------------------------------------------------------\u001b[0m",
      "\u001b[0;31mAttributeError\u001b[0m                            Traceback (most recent call last)",
      "\u001b[0;32m/tmp/ipykernel_1935121/10946562.py\u001b[0m in \u001b[0;36m<module>\u001b[0;34m\u001b[0m\n\u001b[0;32m----> 1\u001b[0;31m \u001b[0mHAT\u001b[0m\u001b[0;34m.\u001b[0m\u001b[0merdosRenyi\u001b[0m\u001b[0;34m(\u001b[0m\u001b[0;36m5\u001b[0m\u001b[0;34m,\u001b[0m\u001b[0;36m0.5\u001b[0m\u001b[0;34m)\u001b[0m\u001b[0;34m\u001b[0m\u001b[0;34m\u001b[0m\u001b[0m\n\u001b[0m",
      "\u001b[0;31mAttributeError\u001b[0m: module 'HAT' has no attribute 'erdosRenyi'"
     ]
    }
   ],
   "source": [
    "HAT.erdosRenyi(5,0.5)"
   ]
  },
  {
   "cell_type": "code",
   "execution_count": 28,
   "id": "f1dc11ec-4091-40dc-80bf-5d83f9778c44",
   "metadata": {},
   "outputs": [],
   "source": [
    "import scipy.linalg\n",
    "import scipy.stats"
   ]
  },
  {
   "cell_type": "code",
   "execution_count": 12,
   "id": "3acdea01-c135-4ddf-9f18-18eaa8fee8b8",
   "metadata": {},
   "outputs": [
    {
     "data": {
      "text/plain": [
       "(array([[ 0.76667838, -0.64203136],\n",
       "        [ 0.64203136,  0.76667838]]),\n",
       " array([1.50815788, 0.54713097]),\n",
       " array([[ 0.42325001,  0.55562449,  0.4766491 ,  0.53380379],\n",
       "        [-0.25401271,  0.07602996, -0.65524503,  0.70735489],\n",
       "        [-0.86167696,  0.1390332 ,  0.4743005 ,  0.11498536],\n",
       "        [ 0.11768518, -0.81619277,  0.3442363 ,  0.44886628]]))"
      ]
     },
     "execution_count": 12,
     "metadata": {},
     "output_type": "execute_result"
    }
   ],
   "source": [
    "T = np.random.rand(2,2,2)\n",
    "# np.hosvd(T)\n",
    "L = np.reshape(T, (2, 4))\n",
    "sp.linalg.svd(L)\n"
   ]
  },
  {
   "cell_type": "code",
   "execution_count": 23,
   "id": "e3f9f0a1-a838-483e-bed5-90a94300f731",
   "metadata": {},
   "outputs": [],
   "source": [
    "L = np.random.rand(4,4,4)\n",
    "# np.hosvd(T)\n",
    "L = np.reshape(L, (4, 4**2))\n",
    "_, S, _ = sp.linalg.svd(L)"
   ]
  },
  {
   "cell_type": "code",
   "execution_count": 25,
   "id": "3d0cee3f-ae17-4844-83c0-1e74f815288f",
   "metadata": {},
   "outputs": [],
   "source": [
    "S /= sum(S)\n"
   ]
  },
  {
   "cell_type": "code",
   "execution_count": 37,
   "id": "49b78a64-4c16-4560-9ea9-1f78d51148dc",
   "metadata": {},
   "outputs": [
    {
     "name": "stdout",
     "output_type": "stream",
     "text": [
      "1\n",
      "3\n"
     ]
    }
   ],
   "source": [
    "np.size(T)\n",
    "print(len(S.shape))\n",
    "print(len(T.shape))\n"
   ]
  },
  {
   "cell_type": "code",
   "execution_count": 31,
   "id": "deb254f3-8aaf-452b-966b-c72c901f4fc1",
   "metadata": {},
   "outputs": [
    {
     "data": {
      "text/plain": [
       "1.165901303658456"
      ]
     },
     "execution_count": 31,
     "metadata": {},
     "output_type": "execute_result"
    }
   ],
   "source": [
    "sp.stats.entropy(S) #, base = np.e)"
   ]
  },
  {
   "cell_type": "code",
   "execution_count": 43,
   "id": "cc3c994f-846e-4d0e-9819-2ae39296fe9b",
   "metadata": {},
   "outputs": [
    {
     "name": "stdout",
     "output_type": "stream",
     "text": [
      "[[1 2]\n",
      " [3 4]]\n"
     ]
    }
   ],
   "source": [
    "A = np.array([[1,2],[3,4]])\n",
    "print(A)"
   ]
  },
  {
   "cell_type": "code",
   "execution_count": 46,
   "id": "34c13d2c-da38-442f-a65d-03239f1413c3",
   "metadata": {},
   "outputs": [
    {
     "data": {
      "text/plain": [
       "array([[ 37,  54],\n",
       "       [ 81, 118]])"
      ]
     },
     "execution_count": 46,
     "metadata": {},
     "output_type": "execute_result"
    }
   ],
   "source": [
    "A @ A @ A"
   ]
  },
  {
   "cell_type": "markdown",
   "id": "9483740a-6dec-4e5f-bc51-f86e398990f1",
   "metadata": {},
   "source": [
    "# HOSVD Algorithms"
   ]
  },
  {
   "cell_type": "code",
   "execution_count": 20,
   "id": "52e7a62c-b167-4f43-a80c-c9d9cd0ef509",
   "metadata": {},
   "outputs": [],
   "source": [
    "import scipy.linalg"
   ]
  },
  {
   "cell_type": "code",
   "execution_count": 23,
   "id": "8c40a583-e68d-4d21-8c54-e484f2421673",
   "metadata": {},
   "outputs": [],
   "source": [
    "modes = 4\n",
    "dimensions = 4\n",
    "T = np.random.rand(*(dimensions * np.ones(modes,).astype(int)))"
   ]
  },
  {
   "cell_type": "code",
   "execution_count": 25,
   "id": "a9b0f42a-6dab-4b36-be49-b5c5d8e74ead",
   "metadata": {},
   "outputs": [
    {
     "ename": "TypeError",
     "evalue": "_reshape_dispatcher() got an unexpected keyword argument 'axis'",
     "output_type": "error",
     "traceback": [
      "\u001b[0;31m---------------------------------------------------------------------------\u001b[0m",
      "\u001b[0;31mTypeError\u001b[0m                                 Traceback (most recent call last)",
      "\u001b[0;32m/tmp/ipykernel_226049/3002781693.py\u001b[0m in \u001b[0;36m<module>\u001b[0;34m\u001b[0m\n\u001b[1;32m      1\u001b[0m \u001b[0;32mfor\u001b[0m \u001b[0mi\u001b[0m \u001b[0;32min\u001b[0m \u001b[0mrange\u001b[0m\u001b[0;34m(\u001b[0m\u001b[0;36m4\u001b[0m\u001b[0;34m)\u001b[0m\u001b[0;34m:\u001b[0m\u001b[0;34m\u001b[0m\u001b[0;34m\u001b[0m\u001b[0m\n\u001b[0;32m----> 2\u001b[0;31m     \u001b[0mprint\u001b[0m\u001b[0;34m(\u001b[0m\u001b[0mnp\u001b[0m\u001b[0;34m.\u001b[0m\u001b[0mreshape\u001b[0m\u001b[0;34m(\u001b[0m\u001b[0mT\u001b[0m\u001b[0;34m,\u001b[0m \u001b[0;34m(\u001b[0m\u001b[0;36m4\u001b[0m\u001b[0;34m,\u001b[0m \u001b[0;36m64\u001b[0m\u001b[0;34m)\u001b[0m\u001b[0;34m,\u001b[0m \u001b[0maxis\u001b[0m \u001b[0;34m=\u001b[0m \u001b[0mi\u001b[0m\u001b[0;34m)\u001b[0m\u001b[0;34m)\u001b[0m\u001b[0;34m\u001b[0m\u001b[0;34m\u001b[0m\u001b[0m\n\u001b[0m",
      "\u001b[0;32m<__array_function__ internals>\u001b[0m in \u001b[0;36mreshape\u001b[0;34m(*args, **kwargs)\u001b[0m\n",
      "\u001b[0;31mTypeError\u001b[0m: _reshape_dispatcher() got an unexpected keyword argument 'axis'"
     ]
    }
   ],
   "source": [
    "for i in range(4):\n",
    "    print(np.reshape(T, (4, 64), axis = i))"
   ]
  },
  {
   "cell_type": "code",
   "execution_count": 15,
   "id": "f1a1800a-bd9c-4d3f-96a0-3f9d26d28568",
   "metadata": {},
   "outputs": [
    {
     "data": {
      "text/plain": [
       "numpy.ndarray"
      ]
     },
     "execution_count": 15,
     "metadata": {},
     "output_type": "execute_result"
    }
   ],
   "source": [
    "type(T)"
   ]
  },
  {
   "cell_type": "code",
   "execution_count": null,
   "id": "fe38ea05-1565-4bb5-8f02-ee3429bf89f7",
   "metadata": {},
   "outputs": [],
   "source": [
    "U, S, V = [], [], []\n",
    "for n in range(modes):\n",
    "    scipy.linalg.SVD("
   ]
  },
  {
   "cell_type": "code",
   "execution_count": 22,
   "id": "0403e8f3-2b45-4b1c-9407-10e3c6f40806",
   "metadata": {},
   "outputs": [
    {
     "data": {
      "text/plain": [
       "(array([[-0.63223734,  0.03588325,  0.3961793 ,  0.66485359],\n",
       "        [-0.43295203, -0.14551646,  0.52609819, -0.717355  ],\n",
       "        [-0.55039409,  0.56283848, -0.58060362, -0.20779466],\n",
       "        [-0.3315039 , -0.81286542, -0.47870877,  0.0138882 ]]),\n",
       " array([2.25672327, 0.87759998, 0.30766591, 0.08371284]),\n",
       " array([[-0.5167937 , -0.49400144, -0.65107814, -0.25491982],\n",
       "        [-0.81831931,  0.46514154,  0.32798944, -0.08012353],\n",
       "        [ 0.20346414,  0.08561523,  0.15082318, -0.96359989],\n",
       "        [-0.1479193 , -0.72957245,  0.66766201,  0.00844762]]))"
      ]
     },
     "execution_count": 22,
     "metadata": {},
     "output_type": "execute_result"
    }
   ],
   "source": [
    "sp.linalg.svd(T)"
   ]
  }
 ],
 "metadata": {
  "kernelspec": {
   "display_name": "Python 3 (ipykernel)",
   "language": "python",
   "name": "python3"
  },
  "language_info": {
   "codemirror_mode": {
    "name": "ipython",
    "version": 3
   },
   "file_extension": ".py",
   "mimetype": "text/x-python",
   "name": "python",
   "nbconvert_exporter": "python",
   "pygments_lexer": "ipython3",
   "version": "3.9.7"
  }
 },
 "nbformat": 4,
 "nbformat_minor": 5
}
