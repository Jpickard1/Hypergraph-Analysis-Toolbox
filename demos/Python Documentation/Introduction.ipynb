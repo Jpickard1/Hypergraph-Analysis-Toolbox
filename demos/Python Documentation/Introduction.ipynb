{
 "cells": [
  {
   "cell_type": "code",
   "execution_count": 1,
   "id": "2f48ab21-01a8-4770-8d61-da411d535187",
   "metadata": {},
   "outputs": [],
   "source": [
    "import HAT\n",
    "import numpy as np\n",
    "import scipy as sp\n",
    "import networkx as nx"
   ]
  },
  {
   "cell_type": "code",
   "execution_count": 2,
   "id": "5f7f0aff-3e60-43d8-ae1f-ea6698a6a27d",
   "metadata": {},
   "outputs": [],
   "source": [
    "W = np.random.randint(2,size=(15,20))"
   ]
  },
  {
   "cell_type": "code",
   "execution_count": 3,
   "id": "fb09d24d-3faf-4517-8b6a-198d5bf42e4c",
   "metadata": {},
   "outputs": [],
   "source": [
    "W = np.random.randint(2,size=(15,20))\n",
    "HG = HAT.Hypergraph(W)\n",
    "# HG.draw()"
   ]
  },
  {
   "cell_type": "code",
   "execution_count": 4,
   "id": "e8865cc0-df39-4607-89e8-a99a4eb027bf",
   "metadata": {},
   "outputs": [],
   "source": [
    "# HAT.draw.incidencePlot(HG)"
   ]
  },
  {
   "cell_type": "code",
   "execution_count": 5,
   "id": "e3a0e75a-85c3-405b-9565-45063d7b9ad4",
   "metadata": {},
   "outputs": [],
   "source": [
    "I = np.array([[1, 1, 1, 0],\n",
    "              [1, 1, 0, 1],\n",
    "              [1, 0, 1, 1],\n",
    "              [0, 1, 1, 1]])\n",
    "\n",
    "HG = HAT.Hypergraph(I)\n",
    "A = HG.adjTensor()\n",
    "D = HG.degreeTensor()\n",
    "L = HG.laplacianTensor()"
   ]
  },
  {
   "cell_type": "code",
   "execution_count": 6,
   "id": "b5cb7bba-0749-4fe7-b78a-3a2e2db1b4c4",
   "metadata": {},
   "outputs": [],
   "source": [
    "I = np.array([[1, 1, 1, 0],\n",
    "              [1, 1, 0, 1],\n",
    "              [1, 0, 1, 1]])\n",
    "HG = HAT.Hypergraph(I)\n",
    "C = HG.cliqueGraph()\n",
    "L = HG.lineGraph()\n",
    "S = HG.starGraph()"
   ]
  },
  {
   "cell_type": "code",
   "execution_count": 7,
   "id": "f7592cd3-917e-4ff5-947c-a097ddbc71bc",
   "metadata": {},
   "outputs": [],
   "source": [
    "B = HG.laplacianMatrix(\"Bolla\")\n",
    "R = HG.laplacianMatrix(\"Rodriguez\")\n",
    "Z = HG.laplacianMatrix(\"Zhou\")"
   ]
  },
  {
   "cell_type": "code",
   "execution_count": 8,
   "id": "b1f2ea60-7b32-471e-9b17-6904f05b3f7d",
   "metadata": {},
   "outputs": [],
   "source": [
    "HG1 = HAT.uniformErdosRenyi(6,4,3)\n",
    "HG2 = HAT.uniformErdosRenyi(6,4,3)"
   ]
  },
  {
   "cell_type": "code",
   "execution_count": 9,
   "id": "524e1a82-dc4e-478b-86b7-f52d5e78a170",
   "metadata": {},
   "outputs": [
    {
     "name": "stdout",
     "output_type": "stream",
     "text": [
      "0.12380952380952381\n",
      "4.8936807962684945\n",
      "0.11292370628198518\n"
     ]
    }
   ],
   "source": [
    "D1 = HAT.directSimilarity(HG1, HG2, 'Hamming')\n",
    "print(D1)\n",
    "D2 = HAT.directSimilarity(HG1, HG2, 'Spectral-S')\n",
    "print(D2)\n",
    "D3 = HAT.directSimilarity(HG1, HG2, 'centrality')\n",
    "print(D3)"
   ]
  },
  {
   "cell_type": "code",
   "execution_count": 10,
   "id": "64959810-22d2-4bfb-807d-6288f08b941f",
   "metadata": {},
   "outputs": [
    {
     "name": "stdout",
     "output_type": "stream",
     "text": [
      "0.26666666666666666\n",
      "0.8571428571428572\n",
      "0.015531368962205985\n",
      "0.24049759969471576\n"
     ]
    }
   ],
   "source": [
    "G1 = HG1.cliqueGraph()\n",
    "G2 = HG2.cliqueGraph()\n",
    "\n",
    "D1 = HAT.indirectSimilarity(G1, G2, 'Hamming')\n",
    "D2 = HAT.indirectSimilarity(G1, G2, 'Jaccard')\n",
    "D3 = HAT.indirectSimilarity(G1, G2, 'deltaCon')\n",
    "D4 = HAT.indirectSimilarity(G1, G2, 'Spectral')\n",
    "# Centrality D5 = HAT.indirectSimilarity(G1, G2, 'Jaccard')\n",
    "# D6 = HAT.indirectSimilarity(G1, G2, 'Jaccard')\n",
    "print(D1)\n",
    "print(D2)\n",
    "print(D3)\n",
    "print(D4)\n",
    "\n"
   ]
  },
  {
   "cell_type": "code",
   "execution_count": 12,
   "id": "a2d34a7c-a353-453c-a20b-489fe8097621",
   "metadata": {},
   "outputs": [
    {
     "name": "stdout",
     "output_type": "stream",
     "text": [
      "2.2068854769292123\n",
      "-inf\n",
      "0.4503571428571428\n",
      "1.5777777777777777\n"
     ]
    }
   ],
   "source": [
    "HG = HAT.uniformErdosRenyi(10,9,3)\n",
    "print(HG.tensorEntropy())\n",
    "print(HG.matrixEntropy())\n",
    "print(HG.clusteringCoef())\n",
    "print(HG.avgDistance())"
   ]
  },
  {
   "cell_type": "code",
   "execution_count": 30,
   "id": "816e5e5f-f72c-4ae0-8998-e66f1c32de32",
   "metadata": {},
   "outputs": [
    {
     "data": {
      "text/plain": [
       "(array([0.10499828, 0.112828  , 0.09487666, 0.09487666, 0.12486471,\n",
       "        0.112828  , 0.10499828, 0.12486471, 0.12486471]),\n",
       " array([0.11111111, 0.11111111, 0.11111111, 0.11111111, 0.11111111,\n",
       "        0.11111111, 0.11111111, 0.11111111, 0.11111111]))"
      ]
     },
     "execution_count": 30,
     "metadata": {},
     "output_type": "execute_result"
    }
   ],
   "source": [
    "HG = HAT.uniformErdosRenyi(9,9,4)\n",
    "HG.centrality(model='LogExp')"
   ]
  },
  {
   "cell_type": "code",
   "execution_count": 31,
   "id": "20a9ef4a-c5de-47b4-a196-b1c04214242a",
   "metadata": {},
   "outputs": [
    {
     "name": "stdout",
     "output_type": "stream",
     "text": [
      "(9, 2)\n",
      "(9, 10)\n",
      "(9, 2)\n",
      "(9, 10)\n",
      "(9, 2)\n",
      "(9, 10)\n",
      "(9, 2)\n",
      "(9, 10)\n",
      "(9, 2)\n",
      "(9, 10)\n",
      "(9, 2)\n",
      "(9, 10)\n",
      "(9, 2)\n",
      "(9, 10)\n",
      "(9, 2)\n",
      "(9, 10)\n",
      "(9, 2)\n",
      "(9, 10)\n",
      "(9, 2)\n"
     ]
    },
    {
     "data": {
      "text/plain": [
       "array([[ 0.,  0.],\n",
       "       [ 0.,  1.],\n",
       "       [ 0.,  0.],\n",
       "       [-1.,  0.],\n",
       "       [ 0.,  0.],\n",
       "       [ 0.,  0.],\n",
       "       [ 0.,  0.],\n",
       "       [ 0.,  0.],\n",
       "       [ 0.,  0.]])"
      ]
     },
     "execution_count": 31,
     "metadata": {},
     "output_type": "execute_result"
    }
   ],
   "source": [
    "B = HG.ctrbk([1, 3])\n",
    "B"
   ]
  },
  {
   "cell_type": "code",
   "execution_count": null,
   "id": "eef9b16d-9d50-4988-b72f-e0291ce29d1a",
   "metadata": {},
   "outputs": [],
   "source": [
    "sp.stats.entropy(np.array([ 6.00000000e+00, -5.33573783e-16,  6.00000000e+00]))"
   ]
  },
  {
   "cell_type": "code",
   "execution_count": null,
   "id": "b1845972-40d3-457a-a226-7ac635f2ea48",
   "metadata": {},
   "outputs": [],
   "source": [
    "D3 = HAT.indirectSimilarity(G1, G2, 'deltaCon')"
   ]
  },
  {
   "cell_type": "code",
   "execution_count": null,
   "id": "d5d8d2d1-4a3a-4f0c-88cb-b9be24f4dbe7",
   "metadata": {},
   "outputs": [],
   "source": [
    "# HG1.degreeTensor()\n",
    "# order = int(sum(HG1.IM[:,0]))\n",
    "# np.ones(order)\n",
    "M1 = nx.adjacency_matrix(G1).todense()\n",
    "print(M1)\n",
    "D1 = np.diag(sum(M1))\n",
    "print(D1)"
   ]
  }
 ],
 "metadata": {
  "kernelspec": {
   "display_name": "Python 3 (ipykernel)",
   "language": "python",
   "name": "python3"
  },
  "language_info": {
   "codemirror_mode": {
    "name": "ipython",
    "version": 3
   },
   "file_extension": ".py",
   "mimetype": "text/x-python",
   "name": "python",
   "nbconvert_exporter": "python",
   "pygments_lexer": "ipython3",
   "version": "3.9.7"
  }
 },
 "nbformat": 4,
 "nbformat_minor": 5
}
