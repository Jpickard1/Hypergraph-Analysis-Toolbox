{
 "cells": [
  {
   "cell_type": "markdown",
   "id": "dc4d85a8-af59-4d71-80c2-28c97259388a",
   "metadata": {},
   "source": [
    "# Multi-way Interactions\n",
    "\n",
    "This tutorial constructs hypergraphs from 2D and pairwise data using methods of multi-correlation. A multi-correlation is a function that measures the relationships between three or more variables. Based on the strength of these relationships between sets of variables, hyperedges may be defined and used to construct a hypergraph. This demo will walk through each of these steps using HAT [1].\n",
    "\n",
    "## Multi-way Relationship Measures\n",
    "Let $D\\in R^{m\\times n}$ be a 2D data matrix with $m$ measurements taken on $n$ variables, and each variable represents a vertex in the hypergraph. Then the correlation matrix is defined $R=cor(D)\\in R^{m\\times m}$. An individual entry $R_{i,j}$ is the pairwise relationship between the $i$th and $j$th random variables in $D.$ To determine the relationship between more than two variables, multi-correlation matrices examine minors or submatrices of $R$, which are denoted $R'$. The below three measures are implemented in HAT.\n",
    "\n",
    "### Drezner\n",
    "In \"Multirelation—a correlation among more than two variables,\" Zvi Drezner proposes a muli-correlation measure based on the linear fit of data [2]. Minors of are considered, and the linear fit between the random variables is determined according to the measure\n",
    "$$1-\\lambda(R'),$$\n",
    "where $R'$ denotes a minor of $R$ and $\\lambda$ represents the smallest eigenvalue of the matrix.\n",
    "### Wang and Zheng\n",
    "In \"Measures of correlation for multiple variables,\" Jianji Wang and Nanning Zheng define a multi-correlation measure according to the equation [3]:\n",
    "$$(1-det(R'))^{0.5}$$\n",
    "### Taylor\n",
    "In \"A multi-way correlation coefficient,\" Benjamin Taylor defines a multi-correlation measure according to the equation [4]:\n",
    "$$\\frac{1}{\\sqrt{k}}std(\\lambda_1,\\dots,\\lambda_k)$$\n",
    "where $k$ is the size of the minor $R'$ and the values $\\lambda_1,\\dots,\\lambda_k$ are the eigenvalues of $R'$.\n",
    "\n",
    "Each of the above 3 measures is implemented by HAT. In Example 1, the step-by-step process of computing the multi-way relationships is shown, and in Example 2, these methods are applied to construct a hypergraph from pairwise data using HAT."
   ]
  },
  {
   "cell_type": "code",
   "execution_count": 1,
   "id": "930aa564-0420-40ab-8d66-545d4bb971c4",
   "metadata": {},
   "outputs": [],
   "source": [
    "# !pip install --upgrade pip\n",
    "# !pip install HypergraphAnalysisToolbox"
   ]
  },
  {
   "cell_type": "code",
   "execution_count": 2,
   "id": "a85b6da4-7bd8-4098-8843-d63d176947d6",
   "metadata": {},
   "outputs": [],
   "source": [
    "import matplotlib.pyplot as plt\n",
    "import numpy as np\n",
    "import networkx as nx\n",
    "import itertools\n",
    "import HAT"
   ]
  },
  {
   "cell_type": "markdown",
   "id": "f2c5929a-33e4-4564-8530-28cbded68efa",
   "metadata": {},
   "source": [
    "## Example 1\n",
    "This example walks through analyzing the minors of a correlation matrix. A small data matrix is given, all minors of size  are extracted, and the multicorrelation functions are applied to each minor. This example doesn't use HAT but instead shows how HAT works. In this cell, a data matrix  is created for a 4 variables with 4 measurements taken on each."
   ]
  },
  {
   "cell_type": "markdown",
   "id": "90d5f462-b67d-4864-a717-c713c6e9a8e2",
   "metadata": {},
   "source": [
    "In this cell, a data matrix  is created for a 4 variables with 4 measurements taken on each. The built-in MATLAB function corrcoef computes the correlation matrix "
   ]
  },
  {
   "cell_type": "code",
   "execution_count": 3,
   "id": "5a89687e-fa2e-4d2c-8cdf-6e2bf0f25bed",
   "metadata": {},
   "outputs": [
    {
     "name": "stdout",
     "output_type": "stream",
     "text": [
      "[[ 1.         -0.62118416 -0.23268933 -0.56996902]\n",
      " [-0.62118416  1.         -0.16273378  0.21515876]\n",
      " [-0.23268933 -0.16273378  1.          0.91619412]\n",
      " [-0.56996902  0.21515876  0.91619412  1.        ]]\n"
     ]
    }
   ],
   "source": [
    "# Set matrix D\n",
    "D = np.array([[0.4218,    0.6557,    0.6787,    0.6555],\n",
    "              [0.9157,    0.0357,    0.7577,    0.1712],\n",
    "              [0.7922,    0.8491,    0.7431,    0.7060],\n",
    "              [0.9595,    0.9340,    0.3922,    0.0318]])\n",
    "# Get correlation matrix R\n",
    "R = np.corrcoef(D)\n",
    "print(R)"
   ]
  },
  {
   "cell_type": "markdown",
   "id": "595821b5-196c-4711-aa13-0b069ba3b144",
   "metadata": {},
   "source": [
    "Extracting minors or submatrices of a matrix in Python is as simple as taking the row and column slices of the original matrix. For the matrix  above, the minor on variables 0, 1, and 2 is the submatrix:"
   ]
  },
  {
   "cell_type": "code",
   "execution_count": 4,
   "id": "421f98e2-aa16-4838-a16a-6f0e485e0092",
   "metadata": {},
   "outputs": [
    {
     "name": "stdout",
     "output_type": "stream",
     "text": [
      "[[ 1.         -0.62118416 -0.23268933]\n",
      " [-0.62118416  1.         -0.16273378]\n",
      " [-0.23268933 -0.16273378  1.        ]]\n"
     ]
    }
   ],
   "source": [
    "# Manually create minor R123\n",
    "R123 = np.array([[0.4218,    0.6557,    0.6787],\n",
    "                 [0.9157,    0.0357,    0.7577],\n",
    "                 [0.7922,    0.8491,    0.7431]])\n",
    "# Slices to get minor R123\n",
    "R123 = R[np.ix_([0,1,2], [0,1,2])]\n",
    "print(R123)"
   ]
  },
  {
   "cell_type": "markdown",
   "id": "ef37ab62-f848-4718-b81d-570cbde80059",
   "metadata": {},
   "source": [
    "To consider all possible way interactions among $n$ variables, the command `itertools.combinations` enumerates all possible indices that are used to extract minors of $R$. In the code below, all 3-way interactions are generated and listed as a row of the `idxs` matrix."
   ]
  },
  {
   "cell_type": "code",
   "execution_count": 5,
   "id": "a178c3a7-e0a6-48e0-afc0-0c99b8f061d8",
   "metadata": {},
   "outputs": [
    {
     "name": "stdout",
     "output_type": "stream",
     "text": [
      "[[0 1 2]\n",
      " [0 1 3]\n",
      " [0 2 3]\n",
      " [1 2 3]]\n"
     ]
    }
   ],
   "source": [
    "n = 4\n",
    "k = 3\n",
    "idxs = np.array(list(itertools.combinations(range(len(R)), k)))\n",
    "print(idxs)"
   ]
  },
  {
   "cell_type": "markdown",
   "id": "9b2a233e-28a1-44f9-bb36-e2ae8cce229f",
   "metadata": {},
   "source": [
    "To compute each multicorrelation measure for $k-$way interactions among $n$ variables, we can iterate over each set of indices used to extract minors of $R$. Then, for each minor, the multcorrelation is computed according to one of the measures given above [2,3,4]."
   ]
  },
  {
   "cell_type": "code",
   "execution_count": 6,
   "id": "c8f63657-c288-4d56-92e7-25f26e302dfc",
   "metadata": {},
   "outputs": [
    {
     "name": "stdout",
     "output_type": "stream",
     "text": [
      "[0.72873333 0.74293639 0.98585613 0.98848037]\n"
     ]
    }
   ],
   "source": [
    "M = np.zeros(len(idxs),)\n",
    "mtype = 'Drezner'\n",
    "for i in range(len(idxs)):\n",
    "    minor = R[np.ix_(idxs[i,:], idxs[i,:])]\n",
    "    if mtype == 'Drezner':\n",
    "        w, _ = np.linalg.eigh(minor)\n",
    "        M[i] = 1 - w[0]\n",
    "    elif mtype == 'Wang':\n",
    "        M[i] = pow((1 - np.linalg.det(minor)), 0.5)\n",
    "    elif mtype == 'Taylor':\n",
    "        w, _ = np.linalg.eigh(minor)\n",
    "        M[i] = (1/np.sqrt(k)) * np.std(w)\n",
    "print(M)"
   ]
  },
  {
   "cell_type": "markdown",
   "id": "93e76c2e-4cab-420d-9d9f-1870219912bb",
   "metadata": {},
   "source": [
    "The process detailed in Example 1 is automatically performed by HAT when the data matrix $D$ and order of the interactions $k$ is provided. Example 2 demonstrates how to perform these operations quickly with HAT."
   ]
  },
  {
   "cell_type": "markdown",
   "id": "9fafb891-6610-413c-9980-054395a5bbbc",
   "metadata": {},
   "source": [
    "# Example 2: Zachary’s Karate Club\n",
    "\n",
    "In this example, multi-way correlation measures are utilized to identify high-order interactions in pairwise data. The Karate network is a social network of 34 individuals belonging to the same Karate club at a US university [5] and is canonical to network science. This data is built-in to `HAT` from `networkx` and can be accessed via the `HAT.load` method."
   ]
  },
  {
   "cell_type": "code",
   "execution_count": 7,
   "id": "167a9298-cfa8-443d-a04d-bafc2fcd7a36",
   "metadata": {},
   "outputs": [
    {
     "name": "stdout",
     "output_type": "stream",
     "text": [
      "Graph named \"Zachary's Karate Club\" with 34 nodes and 78 edges\n"
     ]
    }
   ],
   "source": [
    "G = HAT.load('Karate')\n",
    "A = np.array(nx.adjacency_matrix(G).todense())\n",
    "print(G)"
   ]
  },
  {
   "cell_type": "markdown",
   "id": "fbce0804-e19e-4cf5-8591-d070868c1417",
   "metadata": {},
   "source": [
    "The Karate network may be visualized as either an adjacency matrix or a pairwise graph."
   ]
  },
  {
   "cell_type": "code",
   "execution_count": 8,
   "id": "f03fb346-3a98-439d-9dea-8f670f1f155a",
   "metadata": {},
   "outputs": [
    {
     "data": {
      "image/png": "[encoded data removed]",
      "text/plain": [
       "<Figure size 432x288 with 1 Axes>"
      ]
     },
     "metadata": {},
     "output_type": "display_data"
    }
   ],
   "source": [
    "nx.draw(G)\n",
    "plt.title('Karate Network')\n",
    "plt.show()"
   ]
  },
  {
   "cell_type": "code",
   "execution_count": 9,
   "id": "293ea79f-dfe0-4459-abc3-0eb3b9458339",
   "metadata": {},
   "outputs": [
    {
     "data": {
      "image/png": "[encoded data removed]",
      "text/plain": [
       "<Figure size 432x288 with 1 Axes>"
      ]
     },
     "metadata": {
      "needs_background": "light"
     },
     "output_type": "display_data"
    }
   ],
   "source": [
    "plt.imshow(A, interpolation='nearest')\n",
    "plt.title('Karate Adjacency Matrix')\n",
    "plt.show()"
   ]
  },
  {
   "cell_type": "markdown",
   "id": "17e6fea3-6d78-4a9e-974d-89545962a917",
   "metadata": {},
   "source": [
    "To compute multi-way interactions with `HAT`, the data, order of the interaction and method (i.e. Drezner, Taylor, Wang) are passed to the method `HAT.multicorrelations`. The function then returns 2 vectors `[M, idxs]`, where `M` contains multi-way measurements and `idxs` contains the indices of `A` that correspond the the multicorrelation values in `M`. In this case, the pairwise adjacency matrix is utilized as the general 2D data matrix."
   ]
  },
  {
   "cell_type": "code",
   "execution_count": 10,
   "id": "f05b28ff-3a66-48c4-b181-eecad266b3f7",
   "metadata": {},
   "outputs": [],
   "source": [
    "k = 3;\n",
    "[M, idxs] = HAT.multicorrelations(A, k, 'Wang');"
   ]
  },
  {
   "cell_type": "markdown",
   "id": "8d2293b2-208e-46b3-984e-b94fd2458908",
   "metadata": {},
   "source": [
    "By default, `HAT.multicorrelations` computes the multi-way measurements on all $\\binom{n}{k}$ possible sets of random variables from $D$. This presents a computational challenge as $n$ or $k$ increase. To elimintate this challenge, a 4th argument idxs may be passed to this function where idxs is the same format as when it is returned but instead it may be presepcified as the list of variables for multi-correlations to compute. The synatax of this is: `[M, ~] = HAT.multicorrelations(D, k, 'type', idxs)`, where the type is either 'Drezner', 'Taylor', or 'Wang'."
   ]
  },
  {
   "cell_type": "markdown",
   "id": "51e6b36b-e36f-4806-b67e-b954470c9c6f",
   "metadata": {},
   "source": [
    "Given a set of multi-way measurements, the aim is to construct a hypergraph using HAT where high multi-correlations indicate the presence of a hyperedge. Below, the histogram of the multicorrelation scores is plotted."
   ]
  },
  {
   "cell_type": "code",
   "execution_count": 11,
   "id": "e0b05ab5-cbbe-4161-96ae-78a436ff4524",
   "metadata": {},
   "outputs": [
    {
     "data": {
      "image/png": "[encoded data removed]",
      "text/plain": [
       "<Figure size 432x288 with 1 Axes>"
      ]
     },
     "metadata": {
      "needs_background": "light"
     },
     "output_type": "display_data"
    }
   ],
   "source": [
    "plt.hist(M)\n",
    "plt.title('Multicorrelation Histogram')\n",
    "plt.xlabel('Multicorrelation')\n",
    "plt.ylabel('Count')\n",
    "plt.show()"
   ]
  },
  {
   "cell_type": "markdown",
   "id": "d8188f7e-7902-4cc5-9981-d5423dd81917",
   "metadata": {},
   "source": [
    "There are several methods for determining which multicorrelations should represent a hyperedge. The simplest method is to set a minimum threshold `thresh` such that all multicorrelations in `M` that are greater than `thresh` indicate the presence of a hyperedge. Additional methods of setting a threshold for the multicorrelation to indicate a hyperedge could exploite hypergraph properties such as adding edges with the highest multi-correlation until the hypergraph is fully connected, achieves a certain density, or has another desiarable property."
   ]
  },
  {
   "cell_type": "markdown",
   "id": "7a201adc-5e52-4dfa-a6e8-beb62aff1ea4",
   "metadata": {},
   "source": [
    "In this cell, a threshold `thresh` is set as the median value of `M` and the set of indices with multicorrelations larger than thresh are extracted from the `idxs` variable."
   ]
  },
  {
   "cell_type": "code",
   "execution_count": 12,
   "id": "a3c7f308-bafa-4a2e-b625-71fa10f1f5df",
   "metadata": {},
   "outputs": [],
   "source": [
    "thresh = np.median(M)\n",
    "m = np.where(M > thresh)\n",
    "hyperedges = idxs[m, :][0]"
   ]
  },
  {
   "cell_type": "markdown",
   "id": "75e64ee9-298f-40d4-aa0b-7687a8017969",
   "metadata": {},
   "source": [
    "Given the set of hyperedges, these must be transformed to an incidence matrix in order to construct a hypergraph. This is done with the function below."
   ]
  },
  {
   "cell_type": "code",
   "execution_count": 13,
   "id": "ef93b8f8-87d8-48c8-a2ad-e9c5cb67f822",
   "metadata": {},
   "outputs": [],
   "source": [
    "IM = HAT.hyperedges2IM(hyperedges)"
   ]
  },
  {
   "cell_type": "markdown",
   "id": "de36b4c4-83da-465d-94f1-bc6de2ec50e4",
   "metadata": {},
   "source": [
    "Given the incidence matrix a hypergraph representation of the Karate network may finally be constructed."
   ]
  },
  {
   "cell_type": "code",
   "execution_count": 14,
   "id": "3f2cdefb-34e1-42f1-9d38-03a160e4e5c4",
   "metadata": {},
   "outputs": [],
   "source": [
    "HG = HAT.Hypergraph(IM)"
   ]
  },
  {
   "cell_type": "markdown",
   "id": "ba2ba957-55fe-4dc4-b09b-e2b383e03c0b",
   "metadata": {},
   "source": [
    "Given the incidence matrix a hypergraph representation of the Karate network may finally be constructed."
   ]
  },
  {
   "cell_type": "markdown",
   "id": "eb46e073-ed12-49e1-a40a-6006462eefef",
   "metadata": {},
   "source": [
    "## References\n",
    "\n",
    "[1] Joshua Pickard, Can Chen, Rahmy Salman, Cooper Stansbury, Sion Kim, Amit Surana, and Indika Rajapakse. \"Hypergraph Analysis Toolbox for Chromosome Conformation.\"\n",
    "\n",
    "[2] Zvi Drezner. Multirelation—a correlation among more than two variables. Computational Statistics & Data Analysis, 19(3):283–292, 1995.\n",
    "\n",
    "[3] Jianji Wang and Nanning Zheng. Measures of correlation for multiple variables. arXiv preprint arXiv:1401.4827, 2014.\n",
    "\n",
    "[4] Benjamin M Taylor. A multi-way correlation coefficient. arXiv preprint arXiv:2003.02561, 2020.\n",
    "\n",
    "[5] W. W. Zachary, An information flow model for conflict and fission in small groups, Journal of Anthropological Research 33, 452-473 (1977)\n",
    "There are several methods for determining which multicorrelations should represent a hyperedge. The simplest method is to set a minimum threshold thresh such that all multicorrelations in M that are greater than thresh indicate the presence of a hyperedge. Additional methods of setting a threshold for the multicorrelation to indicate a hyperedge could exploite hypergraph properties such as adding edges with the highest multi-correlation until the hypergraph is fully connected, achieves a certain density, or has another desiarable property.\n"
   ]
  }
 ],
 "metadata": {
  "kernelspec": {
   "display_name": "Python 3 (ipykernel)",
   "language": "python",
   "name": "python3"
  },
  "language_info": {
   "codemirror_mode": {
    "name": "ipython",
    "version": 3
   },
   "file_extension": ".py",
   "mimetype": "text/x-python",
   "name": "python",
   "nbconvert_exporter": "python",
   "pygments_lexer": "ipython3",
   "version": "3.9.7"
  }
 },
 "nbformat": 4,
 "nbformat_minor": 5
}
